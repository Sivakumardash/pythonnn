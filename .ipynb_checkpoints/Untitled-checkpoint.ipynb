{
 "cells": [
  {
   "cell_type": "code",
   "execution_count": 1,
   "id": "d08328e8-b381-4a8f-8bf0-260e63e15089",
   "metadata": {},
   "outputs": [
    {
     "name": "stdout",
     "output_type": "stream",
     "text": [
      "a value is 10\n"
     ]
    }
   ],
   "source": [
    "a,b,c=10,20,30\n",
    "print(\"a value is %i\"%a)\n"
   ]
  },
  {
   "cell_type": "code",
   "execution_count": 3,
   "id": "34d50a53-1d12-462b-aae1-ddfe4cd03a08",
   "metadata": {},
   "outputs": [
    {
     "name": "stdout",
     "output_type": "stream",
     "text": [
      "a value is 10\n",
      "a=10,b=20 and c=30\n"
     ]
    }
   ],
   "source": [
    "a,b,c=10,20,30\n",
    "print(\"a value is %i\"%a)\n",
    "print(\"a=%i,b=%i and c=%d\"%(a,b,c))"
   ]
  },
  {
   "cell_type": "code",
   "execution_count": 6,
   "id": "3ab23cf9-908d-4f41-9c50-2c9d72647492",
   "metadata": {},
   "outputs": [
    {
     "name": "stdout",
     "output_type": "stream",
     "text": [
      "hello krish your list is [10, 20, 30, 40]\n"
     ]
    }
   ],
   "source": [
    "name='krish'\n",
    "l=[10,20,30,40]\n",
    "print(\"hello %s your list is %s\"%(name,l))"
   ]
  },
  {
   "cell_type": "code",
   "execution_count": 8,
   "id": "079e4ac5-775b-461d-93d8-3d767976b8e0",
   "metadata": {},
   "outputs": [
    {
     "name": "stdout",
     "output_type": "stream",
     "text": [
      "hello krish your salary is 1000 is sneha\n"
     ]
    }
   ],
   "source": [
    "name='krish'\n",
    "salary='1000'\n",
    "gf='sneha'\n",
    "print(f'hello {name} your salary is {salary} and your gf is {gf}')"
   ]
  },
  {
   "cell_type": "code",
   "execution_count": 10,
   "id": "4df8738f-6a22-4464-a312-c11f67b5cc28",
   "metadata": {},
   "outputs": [
    {
     "name": "stdout",
     "output_type": "stream",
     "text": [
      "hello krish your salary is 1000 and your gf is sneha\n"
     ]
    }
   ],
   "source": [
    "name='krish'\n",
    "salary='1000'\n",
    "gf='sneha'\n",
    "print('hello {} your salary is {} and your gf is {}'.format(name,salary,gf))"
   ]
  },
  {
   "cell_type": "markdown",
   "id": "6af2b785-11f1-45a8-b293-defdddcdc509",
   "metadata": {},
   "source": [
    "number1=int(input('enter the first number'))\n",
    "number2=int(input('enter the second number'))\n",
    "number3=int(input('enter the third number'))\n"
   ]
  },
  {
   "cell_type": "markdown",
   "id": "e4b8c320-a72c-4090-bb57-518e1afee05a",
   "metadata": {},
   "source": [
    "number1=int(input('enter the first number')) number2=int(input('enter the second number')) number3=int(input('enter the third number'))"
   ]
  },
  {
   "cell_type": "code",
   "execution_count": 18,
   "id": "59a4cc44-a338-4c46-8976-c1c20f767c11",
   "metadata": {},
   "outputs": [
    {
     "name": "stdin",
     "output_type": "stream",
     "text": [
      "enter the first number 1\n",
      "enter the second number 3\n",
      "enter the third number 7\n"
     ]
    },
    {
     "name": "stdout",
     "output_type": "stream",
     "text": [
      "min no is 1\n"
     ]
    }
   ],
   "source": [
    "\n",
    "number1=int(input('enter the first number')) \n",
    "number2=int(input('enter the second number')) \n",
    "number3=int(input('enter the third number'))\n",
    "minimum=number1\n",
    "if number2<number1:\n",
    "   minimum=number2\n",
    "if number3<number2:\n",
    "   minimum=number3\n",
    "print('min no is',minimum)\n"
   ]
  },
  {
   "cell_type": "code",
   "execution_count": 19,
   "id": "87e55283-f873-47ca-b03b-6fc547c8779a",
   "metadata": {},
   "outputs": [
    {
     "data": {
      "text/plain": [
       "2"
      ]
     },
     "execution_count": 19,
     "metadata": {},
     "output_type": "execute_result"
    }
   ],
   "source": [
    "min(2,534,9)\n"
   ]
  },
  {
   "cell_type": "code",
   "execution_count": 20,
   "id": "c78e4173-9be0-476a-a398-8f40d316d62e",
   "metadata": {},
   "outputs": [
    {
     "data": {
      "text/plain": [
       "55"
      ]
     },
     "execution_count": 20,
     "metadata": {},
     "output_type": "execute_result"
    }
   ],
   "source": [
    "max(45,55,4)"
   ]
  },
  {
   "cell_type": "code",
   "execution_count": 23,
   "id": "ffe5562e-1238-48a9-b291-27695782ee48",
   "metadata": {},
   "outputs": [
    {
     "name": "stdin",
     "output_type": "stream",
     "text": [
      "enetr the radius of the circle 2\n"
     ]
    },
    {
     "name": "stdout",
     "output_type": "stream",
     "text": [
      "the area of the circle with radius 2 is 12.566370614359172 and volume is 33.510321638291124\n"
     ]
    }
   ],
   "source": [
    "import math\n",
    "r=int(input('enetr the radius of the circle'))\n",
    "ar=math.pi*(r*r)\n",
    "v=4/3*math.pi*(r**3)\n",
    "print(f\"the area of the circle with radius {r} is {ar} and volume is {v}\")"
   ]
  },
  {
   "cell_type": "code",
   "execution_count": 32,
   "id": "1ec824f3-da5b-4d7b-806a-a5b5c0da628d",
   "metadata": {},
   "outputs": [
    {
     "name": "stdin",
     "output_type": "stream",
     "text": [
      "enter the number 4\n"
     ]
    },
    {
     "name": "stdout",
     "output_type": "stream",
     "text": [
      "the sum of numbers upto n is 10.0\n"
     ]
    }
   ],
   "source": [
    "n=int(input(\"enter the number\"))\n",
    "x=n*(n+1)/2\n",
    "print(f\"the sum of numbers upto n is {x}\")"
   ]
  },
  {
   "cell_type": "code",
   "execution_count": null,
   "id": "acaf1cf7-d6d1-4e5b-873a-0b5ce7a6929c",
   "metadata": {},
   "outputs": [],
   "source": []
  },
  {
   "cell_type": "code",
   "execution_count": null,
   "id": "0a83fb9c-74fe-46c8-9d15-701a53995e98",
   "metadata": {},
   "outputs": [],
   "source": []
  }
 ],
 "metadata": {
  "kernelspec": {
   "display_name": "Python 3 (ipykernel)",
   "language": "python",
   "name": "python3"
  },
  "language_info": {
   "codemirror_mode": {
    "name": "ipython",
    "version": 3
   },
   "file_extension": ".py",
   "mimetype": "text/x-python",
   "name": "python",
   "nbconvert_exporter": "python",
   "pygments_lexer": "ipython3",
   "version": "3.11.7"
  }
 },
 "nbformat": 4,
 "nbformat_minor": 5
}
