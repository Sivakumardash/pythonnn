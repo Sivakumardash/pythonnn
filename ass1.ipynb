{
 "cells": [
  {
   "cell_type": "code",
   "execution_count": 2,
   "id": "8b3ce35c-5aac-47df-abfb-6f79f92f4ece",
   "metadata": {},
   "outputs": [
    {
     "name": "stdout",
     "output_type": "stream",
     "text": [
      "nana  nana  nana  nana  nana  nana  nana  nana   batman\n"
     ]
    }
   ],
   "source": [
    "#q8\n",
    "a=\"nana  \"\n",
    "b=8\n",
    "c=a*b\n",
    "print(c,\"batman\")\n"
   ]
  },
  {
   "cell_type": "code",
   "execution_count": 4,
   "id": "aa5ddc72-0d02-4e73-997d-9681d11168c4",
   "metadata": {},
   "outputs": [
    {
     "name": "stdout",
     "output_type": "stream",
     "text": [
      "hi! we are studying \"python\".\\n i hope you all are doing well .\n",
      "we are going to have a great time!\n"
     ]
    }
   ],
   "source": [
    "#q9 \n",
    "''' Howdoyou print the exact following lines in the exact order using only 1 print statement in Python?\n",
    " Hi! We are studying ”Python”. \\n I hope you all are doing well.\n",
    " Weare going to have a great time! \n",
    "ans)\n",
    "'''\n",
    "print('hi! we are studying \"python\".\\\\n i hope you all are doing well .\\nwe are going to have a great time!')\n"
   ]
  },
  {
   "cell_type": "code",
   "execution_count": 52,
   "id": "6c447234-0696-4cdf-85c4-15a029b5d123",
   "metadata": {},
   "outputs": [
    {
     "name": "stdout",
     "output_type": "stream",
     "text": [
      "name:siva kumar dash.\n",
      "adress:sunabeda koraput\n"
     ]
    }
   ],
   "source": [
    "\n",
    "#q10\n",
    "print(\"name:siva kumar dash.\\nadress:sunabeda koraput\")\n"
   ]
  },
  {
   "cell_type": "code",
   "execution_count": 83,
   "id": "dfa9d51b-bc05-4027-9455-a0df2d6c9ad9",
   "metadata": {},
   "outputs": [
    {
     "name": "stdout",
     "output_type": "stream",
     "text": [
      "26\n"
     ]
    }
   ],
   "source": [
    "#q11\n",
    "x=2\n",
    "y=x**3+2*x**2+3*x+4\n",
    "print(y)"
   ]
  },
  {
   "cell_type": "code",
   "execution_count": 6,
   "id": "81549a58-025b-4d72-9f86-8f7c79196f30",
   "metadata": {},
   "outputs": [
    {
     "name": "stdin",
     "output_type": "stream",
     "text": [
      "enter the radius:  2\n"
     ]
    },
    {
     "name": "stdout",
     "output_type": "stream",
     "text": [
      "the area of the circle is: 12.566370614359172\n",
      "volume of the sphere is:  33.510321638291124\n"
     ]
    }
   ],
   "source": [
    "#q12\n",
    "import math\n",
    "r=int(input(\"enter the radius: \"))\n",
    "print(\"the area of the circle is:\",math.pi*r**2)\n",
    "print(\"volume of the sphere is: \",4/3*math.pi*r**3)\n"
   ]
  },
  {
   "cell_type": "code",
   "execution_count": 77,
   "id": "93e90cb4-02f8-4f53-83f6-d30a4a2f4fa9",
   "metadata": {},
   "outputs": [
    {
     "name": "stdin",
     "output_type": "stream",
     "text": [
      "enter the number: 4\n"
     ]
    },
    {
     "name": "stdout",
     "output_type": "stream",
     "text": [
      "sum of the number from 1 to n is: 10.0\n"
     ]
    }
   ],
   "source": [
    "#13\n",
    "n=int(input(\"enter the number:\"))\n",
    "print(\"sum of the number from 1 to n is:\",n*(n+1)/2)"
   ]
  },
  {
   "cell_type": "code",
   "execution_count": 91,
   "id": "6bdd2882-c450-4d27-8697-0733807db8cc",
   "metadata": {},
   "outputs": [
    {
     "name": "stdout",
     "output_type": "stream",
     "text": [
      "True\n"
     ]
    }
   ],
   "source": [
    "#q14 i)\n",
    "a=10  \n",
    "b=5  \n",
    "c=0\n",
    "output=(a<b) or (not(c==b) and (c<a))\n",
    "print(output)"
   ]
  },
  {
   "cell_type": "code",
   "execution_count": 93,
   "id": "3cb618dd-77f2-414a-8f92-2d72200dab90",
   "metadata": {},
   "outputs": [
    {
     "name": "stdout",
     "output_type": "stream",
     "text": [
      "False\n"
     ]
    }
   ],
   "source": [
    "q14) ii)\n",
    "a=1.21\n",
    "b=1.20\n",
    "c=1.22\n",
    "output=(a<b) or (not(c==b) and (c<a))\n",
    "print(output)"
   ]
  },
  {
   "cell_type": "code",
   "execution_count": 97,
   "id": "34e45852-9dc7-49dc-ab31-c02c17e396b4",
   "metadata": {},
   "outputs": [
    {
     "name": "stdout",
     "output_type": "stream",
     "text": [
      "After 10 years, the amount will be: Rs. 3105.85\n",
      "After 20 years, the amount will be: Rs. 9646.29\n",
      "After 30 years, the amount will be: Rs. 29959.92\n"
     ]
    }
   ],
   "source": [
    "#q15)\n",
    "# Define the principal amount\n",
    "p = 1000\n",
    "\n",
    "# Define the annual rate of return\n",
    "r = 0.12\n",
    "\n",
    "# Define the time periods in years\n",
    "years = [10, 20, 30]\n",
    "\n",
    "# Calculate the amount for each time period\n",
    "for n in years:\n",
    "    a = p * (1 + r) ** n\n",
    "    print(f\"After {n} years, the amount will be: Rs. {a:.2f}\")"
   ]
  },
  {
   "cell_type": "code",
   "execution_count": 107,
   "id": "782da43c-e76c-4faf-81b2-ed0442436c47",
   "metadata": {},
   "outputs": [
    {
     "name": "stdout",
     "output_type": "stream",
     "text": [
      "e^pi is: 23.140692632779263 \n",
      "pi^e is: 22.45915771836104\n",
      "ok\n"
     ]
    }
   ],
   "source": [
    "#q16)\n",
    "import math\n",
    "e_pi=math.e**math.pi\n",
    "pi_e=math.pi**math.e\n",
    "print(\"e^pi is:\",e_pi,\"\\npi^e is:\",pi_e)\n",
    "if(e_pi>pi_e):\n",
    "  print(\"ok\")\n",
    "else:\n",
    "  print(\"pk anyway\")\n"
   ]
  },
  {
   "cell_type": "code",
   "execution_count": 111,
   "id": "51522238-2016-403c-8ee9-a1626f52cc75",
   "metadata": {},
   "outputs": [
    {
     "name": "stdout",
     "output_type": "stream",
     "text": [
      "-85.0   2   -50   -25\n"
     ]
    }
   ],
   "source": [
    "#q17)\n",
    "\"\"\"\n",
    "priority up to down-->\n",
    "  1)    ()\n",
    "  2)    **\n",
    "  3)    * / // %\n",
    "  4)    + -\n",
    "  5)    >  <=  < >=\n",
    "  6)    ==  !=\n",
    "\n",
    "\"\"\"\n",
    "a=-7*20+8/16*2+54\n",
    "b=7**2//9%3\n",
    "c=(7-4*2)*10-25*8//5\n",
    "d=5%10+10-25*8//5\n",
    "print(a,\" \",b,\" \",c,\" \",d)"
   ]
  },
  {
   "cell_type": "code",
   "execution_count": 133,
   "id": "6120fdb9-5f4f-4c29-b0bc-9d28c58b87d8",
   "metadata": {},
   "outputs": [
    {
     "name": "stdout",
     "output_type": "stream",
     "text": [
      "False\n",
      "True\n",
      "True\n",
      "False\n",
      "True\n"
     ]
    },
    {
     "name": "stderr",
     "output_type": "stream",
     "text": [
      "<>:23: SyntaxWarning: invalid decimal literal\n",
      "<>:25: SyntaxWarning: invalid decimal literal\n",
      "<>:23: SyntaxWarning: invalid decimal literal\n",
      "<>:25: SyntaxWarning: invalid decimal literal\n",
      "C:\\Users\\Lenovo\\AppData\\Local\\Temp\\ipykernel_9812\\1146172924.py:23: SyntaxWarning: invalid decimal literal\n",
      "  d=7 ** 2 <=5// 9 %3or'bye' < 'Bye'\n",
      "C:\\Users\\Lenovo\\AppData\\Local\\Temp\\ipykernel_9812\\1146172924.py:25: SyntaxWarning: invalid decimal literal\n",
      "  e=  7 ** 2 // 4 + 5 > 8or 5!= 6   # t or t=t\n"
     ]
    }
   ],
   "source": [
    " #18)\n",
    "'''Evaluate the following expressions involving relational and logical operators:\n",
    " a. ’hi’ > ’hello’ and ’bye’ < ’Bye’\n",
    " b. ’hi’ > ’hello’ or ’bye’ < ’Bye’\n",
    " c. 7 >8or 5<6and’Iamfine>’Iamnotfine’\n",
    " d. 10 !=9 and 29 >= 29\n",
    " e. 10 !=9 and 29 >= 29 and ’hi’ > ’hello’ or ’bye’ < ’Bye’ and 7 <= 2.5\n",
    " f. 5 % 10 +10<50and29>=29\n",
    " g. 7 ** 2 <=5// 9 %3or’bye’ < ’Bye’\n",
    " h. 5 %10<8and-25>1*8//5\n",
    " i. 7 ** 2 // 4 + 5 > 8or 5!= 6\n",
    " j. 7/4 < 6 and ’I am fine > ’I am not fine’\n",
    " k. 10 + 6 * 2**2!=9//4-3 and 29 >= 29/9\n",
    " l. ’hello’ * 5 > ’hello’ or ’bye’ < ’Bye’\n",
    "\n",
    "'''                                                               #A=65,a=97\n",
    "a= 'hi' > 'hello' and 'bye' < 'Bye'  #he 1st come then hi so true  but b>B acooding to ascii\n",
    "print(a)\n",
    "b='hi' > 'hello' or 'bye' < 'Bye'     # T or F = T\n",
    "print(b)\n",
    "c= 10 + 6 * 2**2!=9//4-3 and 29 >= 29/9   # t & t= t\n",
    "print(c)\n",
    "d=7 ** 2 <=5// 9 %3or'bye' < 'Bye'\n",
    "print(d)\n",
    "e=  7 ** 2 // 4 + 5 > 8or 5!= 6   # t or t=t\n",
    "print(e)\n",
    "\n",
    "\n"
   ]
  },
  {
   "cell_type": "code",
   "execution_count": 135,
   "id": "a8f6b3d6-821f-469c-894f-dd879ad03d61",
   "metadata": {},
   "outputs": [
    {
     "name": "stdin",
     "output_type": "stream",
     "text": [
      "enter the 1st no 4\n",
      "enter the 2nd number 8\n"
     ]
    },
    {
     "name": "stdout",
     "output_type": "stream",
     "text": [
      "the sum of 4 and 8 is: 12\n",
      "the duiff of 4 and 8 is: -4\n",
      "the product of 4 and 8 is: 32\n",
      "the sum of 4 and 8 is: 12\n",
      "the remainder when 4 is devided by 8 is: 4\n",
      "the sum of 4 and 8 is: 12\n"
     ]
    }
   ],
   "source": [
    "#q20)\n",
    "a=int(input(\"enter the 1st no\"))\n",
    "b=int(input(\"enter the 2nd number\"))\n",
    "print(\"the sum of\",a,\"and\",b,\"is:\",a+b)\n",
    "print(\"the duiff of\",a,\"and\",b,\"is:\",a-b)\n",
    "print(\"the product of\",a,\"and\",b,\"is:\",a*b)\n",
    "print(\"the sum of\",a,\"and\",b,\"is:\",a+b)\n",
    "print(\"the remainder when\",a,\"is devided by\",b,\"is:\",a%b)\n",
    "print(\"the sum of\",a,\"and\",b,\"is:\",a+b)\n",
    "\n",
    "\n",
    "\n",
    "\n"
   ]
  },
  {
   "cell_type": "code",
   "execution_count": null,
   "id": "e1e3e99b-7eb9-4e5b-95a2-9855e6054c0a",
   "metadata": {},
   "outputs": [],
   "source": [
    "#q21)\n",
    "import math\n",
    "\n",
    "# Constants\n",
    "initial_speed = 0  # Initial speed vi in m/s\n",
    "acceleration = 9.8  # Acceleration due to gravity in m/s²\n",
    "\n",
    "# Get the height from which the object is dropped from the user\n",
    "height = float(input(\"Enter the height from which the object is dropped (in meters): \"))\n",
    "\n",
    "# Calculate the final speed using the formula vf = sqrt(vi^2 + 2ad)\n",
    "final_speed = math.sqrt(initial_speed**2 + 2 * acceleration * height)\n",
    "\n",
    "# Display the final speed\n",
    "print(f\"The final speed of the object when it hits the ground is: {final_speed:.2f} m/s\")\n"
   ]
  },
  {
   "cell_type": "code",
   "execution_count": 137,
   "id": "82672857-d266-43b6-bf1d-98585b797de1",
   "metadata": {},
   "outputs": [
    {
     "name": "stdin",
     "output_type": "stream",
     "text": [
      "Enter the temperature in degrees Celsius:  23\n"
     ]
    },
    {
     "name": "stdout",
     "output_type": "stream",
     "text": [
      "The temperature in Fahrenheit is: 73.40°F\n",
      "The temperature in Kelvin is: 296.15K\n"
     ]
    }
   ],
   "source": [
    "\n",
    "#Q22\n",
    "# Read temperature in Celsius from user\n",
    "celsius = float(input(\"Enter the temperature in degrees Celsius: \"))\n",
    "\n",
    "# Convert Celsius to Fahrenheit\n",
    "fahrenheit = celsius * 9/5 + 32\n",
    "\n",
    "# Convert Celsius to Kelvin\n",
    "kelvin = celsius + 273.15\n",
    "\n",
    "# Display the results\n",
    "print(f\"The temperature in Fahrenheit is: {fahrenheit:.2f}°F\")\n",
    "print(f\"The temperature in Kelvin is: {kelvin:.2f}K\")\n"
   ]
  },
  {
   "cell_type": "code",
   "execution_count": 43,
   "id": "14b7b441-f880-4d86-a791-f1c300f878f9",
   "metadata": {},
   "outputs": [
    {
     "name": "stdin",
     "output_type": "stream",
     "text": [
      "enter the number 34555\n"
     ]
    },
    {
     "name": "stdout",
     "output_type": "stream",
     "text": [
      "pls enter four digit no\n"
     ]
    }
   ],
   "source": [
    "#23)\n",
    "n=int(input(\"enter the number\"))\n",
    "if n>999 and n<9999:\n",
    "    f1=(n//1000)\n",
    "    f2=(n//100)%10\n",
    "    f3=(n//10)%10\n",
    "    f4=(n%10)\n",
    "    sum=f1+f2+f3+f4\n",
    "    print(f1,\"+\",f2,\"+\",f3,\"+\",f4,\"=\",sum)\n",
    "else:\n",
    "  print(\"pls enter four digit no\")\n"
   ]
  },
  {
   "cell_type": "code",
   "execution_count": 83,
   "id": "58143118-c1cb-435b-a9b7-68efb1c3d06c",
   "metadata": {},
   "outputs": [
    {
     "name": "stdin",
     "output_type": "stream",
     "text": [
      "enter the first number: 44\n",
      "enter the second number: 55\n",
      "enter the third number: 66\n"
     ]
    },
    {
     "ename": "TypeError",
     "evalue": "'int' object is not callable",
     "output_type": "error",
     "traceback": [
      "\u001b[1;31m---------------------------------------------------------------------------\u001b[0m",
      "\u001b[1;31mTypeError\u001b[0m                                 Traceback (most recent call last)",
      "Cell \u001b[1;32mIn[83], line 5\u001b[0m\n\u001b[0;32m      3\u001b[0m f2\u001b[38;5;241m=\u001b[39m\u001b[38;5;28mint\u001b[39m(\u001b[38;5;28minput\u001b[39m(\u001b[38;5;124m\"\u001b[39m\u001b[38;5;124menter the second number:\u001b[39m\u001b[38;5;124m\"\u001b[39m))\n\u001b[0;32m      4\u001b[0m f3\u001b[38;5;241m=\u001b[39m\u001b[38;5;28mint\u001b[39m(\u001b[38;5;28minput\u001b[39m(\u001b[38;5;124m\"\u001b[39m\u001b[38;5;124menter the third number:\u001b[39m\u001b[38;5;124m\"\u001b[39m))\n\u001b[1;32m----> 5\u001b[0m maximum\u001b[38;5;241m=\u001b[39m\u001b[38;5;28mmax\u001b[39m(f1,f2,f3)\n\u001b[0;32m      6\u001b[0m minimum\u001b[38;5;241m=\u001b[39m\u001b[38;5;28mmin\u001b[39m(f1,f2,f3)\n\u001b[0;32m      7\u001b[0m sum_1\u001b[38;5;241m=\u001b[39mf1\u001b[38;5;241m+\u001b[39mf2\u001b[38;5;241m+\u001b[39mf3\n",
      "\u001b[1;31mTypeError\u001b[0m: 'int' object is not callable"
     ]
    }
   ],
   "source": [
    "#q24)\n",
    "f1=int(input(\"enter the first number:\"))\n",
    "f2=int(input(\"enter the second number:\"))\n",
    "f3=int(input(\"enter the third number:\"))\n",
    "maximum=max(f1,f2,f3)\n",
    "minimum=min(f1,f2,f3)\n",
    "sum_1=f1+f2+f3\n",
    "middle=sum_1-maximum-minimum\n",
    "print(\"max no is:\",maximum)\n",
    "print(\"min no is:\",minimum)\n",
    "print(\"middle no is:\",middle)"
   ]
  },
  {
   "cell_type": "code",
   "execution_count": 85,
   "id": "04baf14b-c4be-41ec-a82d-cc124f389f4f",
   "metadata": {},
   "outputs": [
    {
     "name": "stdin",
     "output_type": "stream",
     "text": [
      "enter the no of days 1\n",
      "enter the no of hours 1\n",
      "enter the no of min 1\n",
      "enter sec 1\n"
     ]
    },
    {
     "name": "stdout",
     "output_type": "stream",
     "text": [
      "total second is: 90061\n"
     ]
    }
   ],
   "source": [
    "#q25)\n",
    "days=int(input(\"enter the no of days\"))\n",
    "hours=int(input(\"enter the no of hours\"))\n",
    "min=int(input(\"enter the no of min\"))\n",
    "sec=int(input(\"enter sec\"))\n",
    "tot_sec=(days*24*3600)+(hours*3600)+(min*60)+sec\n",
    "print(\"total second is:\",tot_sec)"
   ]
  },
  {
   "cell_type": "code",
   "execution_count": 59,
   "id": "fcdf3611-de50-4fe1-913e-ec5a9289b1d3",
   "metadata": {},
   "outputs": [
    {
     "data": {
      "text/plain": [
       "'  Which of the following statements is true about Python variables?\\n a. Variable names can start with a number.       --> cant start with no ex-(2siva=3 is invalid)\\n b. Variables must be declared with their data types. --> false no need of datatype in python\\n c. Python variables do not need to be declared before use.-->true \\n d. Variable names can contain spaces.  --> cant contain space _ can be used in place of space\\n\\n ans) c\\n'"
      ]
     },
     "execution_count": 59,
     "metadata": {},
     "output_type": "execute_result"
    }
   ],
   "source": [
    " #q1\n",
    "\"\"\"  Which of the following statements is true about Python variables?\n",
    " a. Variable names can start with a number.       --> cant start with no ex-(2siva=3 is invalid)\n",
    " b. Variables must be declared with their data types. --> false no need of datatype in python\n",
    " c. Python variables do not need to be declared before use.-->true \n",
    " d. Variable names can contain spaces.  --> cant contain space _ can be used in place of space\n",
    "\n",
    " ans) c\n",
    "\"\"\""
   ]
  },
  {
   "cell_type": "code",
   "execution_count": null,
   "id": "d949cb1b-b620-4c55-bc2a-964ce0db6491",
   "metadata": {},
   "outputs": [],
   "source": [
    "##2\n",
    "\"\"\"\n",
    "As a follow-up of Q. 1., which of the following is a correct variable name in Python?\n",
    " a. 1variable\n",
    " b. variable_1\n",
    " c. variable-1\n",
    " d. variable 1\n",
    "  ans)b\n",
    "\n",
    "\"\"\""
   ]
  },
  {
   "cell_type": "code",
   "execution_count": null,
   "id": "d5a50d50-9505-40fa-afdc-e0e79c4a472d",
   "metadata": {},
   "outputs": [],
   "source": [
    "#q3\n",
    "\"\"\"\n",
    "Mention 2 ways by which you can apply comments in Python.\n",
    "ans) i)for a single line # can be used\n",
    "    ii)for multiple line \"\"\" comment... \"\"\" or '''comment... ''' can be used."
   ]
  },
  {
   "cell_type": "code",
   "execution_count": null,
   "id": "e31628a7-45a1-4fd1-a473-67fc5cf6ac8d",
   "metadata": {},
   "outputs": [],
   "source": [
    "#q4\n",
    "\"\"\"\n",
    "What is the difference between the ’input()’ function and the ’print()’ function in Python?\n",
    "ans) input()--used to get the input from the user\n",
    "    print()--used to get the optput \n",
    "\"\"\""
   ]
  },
  {
   "cell_type": "code",
   "execution_count": null,
   "id": "68358fea-561e-45d8-bf82-e4fc3204b55b",
   "metadata": {},
   "outputs": [],
   "source": [
    " \"\"\"q5. Howdoyou convert the string ’123’ to an integer in Python?\n",
    " a. str(’123’)\n",
    " b. int(123)\n",
    " c. int(’123’)\n",
    " ans) c\n",
    "\"\"\"\n",
    "\n"
   ]
  },
  {
   "cell_type": "code",
   "execution_count": 40,
   "id": "183c2e38-509e-48a7-9a04-d32076cdc96f",
   "metadata": {},
   "outputs": [
    {
     "name": "stdin",
     "output_type": "stream",
     "text": [
      "Enter a: 4\n"
     ]
    },
    {
     "name": "stdout",
     "output_type": "stream",
     "text": [
      "30\n"
     ]
    }
   ],
   "source": [
    "#q7 What is the output of the following Python code?\n",
    "a=int(input(\"Enter a:\"))\n",
    "a=20\n",
    "b=10\n",
    "print(a+b)"
   ]
  },
  {
   "cell_type": "code",
   "execution_count": null,
   "id": "be44ecf9-9ddd-4a08-8f86-1cd38f0519d3",
   "metadata": {},
   "outputs": [],
   "source": []
  },
  {
   "cell_type": "code",
   "execution_count": null,
   "id": "70b5dfcd-021a-4919-813e-aab0794cdcd7",
   "metadata": {},
   "outputs": [],
   "source": []
  },
  {
   "cell_type": "code",
   "execution_count": null,
   "id": "be0543db-0c01-4eff-810b-2acafbe6bee6",
   "metadata": {},
   "outputs": [],
   "source": []
  }
 ],
 "metadata": {
  "kernelspec": {
   "display_name": "Python 3 (ipykernel)",
   "language": "python",
   "name": "python3"
  },
  "language_info": {
   "codemirror_mode": {
    "name": "ipython",
    "version": 3
   },
   "file_extension": ".py",
   "mimetype": "text/x-python",
   "name": "python",
   "nbconvert_exporter": "python",
   "pygments_lexer": "ipython3",
   "version": "3.12.4"
  }
 },
 "nbformat": 4,
 "nbformat_minor": 5
}
