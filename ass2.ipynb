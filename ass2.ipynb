{
 "cells": [
  {
   "cell_type": "code",
   "execution_count": 15,
   "id": "38d51b9e-42d5-4fa7-a494-375a8203b309",
   "metadata": {},
   "outputs": [
    {
     "name": "stdout",
     "output_type": "stream",
     "text": [
      "is it raining or not: yes\n"
     ]
    },
    {
     "name": "stdout",
     "output_type": "stream",
     "text": [
      "carry an umbrella\n"
     ]
    }
   ],
   "source": [
    "#q1)\n",
    "a=input(\"is it raining or not:\")\n",
    "if a=='yes':\n",
    "  print(\"carry an umbrella\")\n",
    "else:\n",
    " print(\"bye\")"
   ]
  },
  {
   "cell_type": "code",
   "execution_count": 27,
   "id": "e85b6673-a64a-4d92-b869-fef5e52e053f",
   "metadata": {},
   "outputs": [
    {
     "name": "stdout",
     "output_type": "stream",
     "text": [
      "Enter the Student grade: 99\n"
     ]
    },
    {
     "name": "stdout",
     "output_type": "stream",
     "text": [
      "Grade-A- Excellent\n"
     ]
    }
   ],
   "source": [
    "#q3)\n",
    "grade=int(input(\"Enter the Student grade:\"))\n",
    "if grade>=90:\n",
    " print(\"Grade-A- Excellent\")\n",
    "elif grade>=80:\n",
    " print(\"Grade-B- Good\")\n",
    "elif grade>=70:\n",
    " print(\"Grade-C- Average\")\n",
    "elif grade>=60:\n",
    " print(\"Grade-D- Needs Improvement\")\n",
    "else:\n",
    " print(\"Grade-F- Failing\")"
   ]
  },
  {
   "cell_type": "code",
   "execution_count": null,
   "id": "4eeb988f-e1fa-4242-9ce3-8fd36cdaa97a",
   "metadata": {},
   "outputs": [],
   "source": []
  },
  {
   "cell_type": "code",
   "execution_count": 38,
   "id": "00a2d619-e6bd-4a5d-a35f-cd1f5169ea17",
   "metadata": {},
   "outputs": [
    {
     "name": "stdout",
     "output_type": "stream",
     "text": [
      "Enter the length of First side: 23\n",
      "Enter the length of Second side: 23\n",
      "Enter the length of Third side: 2\n"
     ]
    },
    {
     "name": "stdout",
     "output_type": "stream",
     "text": [
      "It is an Iscoceles Triangle.\n"
     ]
    }
   ],
   "source": [
    "#q3 ii)\n",
    "a=float(input(\"Enter the length of First side:\"))\n",
    "b=float(input(\"Enter the length of Second side:\"))\n",
    "c=float(input(\"Enter the length of Third side:\"))\n",
    "if a==b==c:\n",
    " print(\"It is an Equilateral Triangle.\")\n",
    "elif a==b or b==c or c==a:\n",
    " print(\"It is an Iscoceles Triangle.\")\n",
    "else:\n",
    " print(\"It is a scalane Triangle.\")"
   ]
  },
  {
   "cell_type": "code",
   "execution_count": 49,
   "id": "d631c570-c229-4f58-bd83-d99aafa6aea1",
   "metadata": {},
   "outputs": [
    {
     "name": "stdout",
     "output_type": "stream",
     "text": [
      "enter no: 24\n"
     ]
    },
    {
     "name": "stdout",
     "output_type": "stream",
     "text": [
      "even no\n"
     ]
    }
   ],
   "source": [
    "#q4)\n",
    "n=int(input(\"enter no:\"))\n",
    "if n%2==0:\n",
    "  print(\"even no\")\n",
    "else:\n",
    "  print (\"odd no\")"
   ]
  },
  {
   "cell_type": "code",
   "execution_count": 53,
   "id": "6b933e74-73cc-4481-adc6-283f9442b315",
   "metadata": {},
   "outputs": [
    {
     "name": "stdout",
     "output_type": "stream",
     "text": [
      "Enter a year: 1234\n"
     ]
    },
    {
     "name": "stdout",
     "output_type": "stream",
     "text": [
      "The year 1234 is not leap year.\n"
     ]
    }
   ],
   "source": [
    "#q5)\n",
    "year=int(input(\"Enter a year:\"))\n",
    "if (year %4==0 and year%100!=0) or (year%400==0):\n",
    " print(f\"The year { year} is a leap year.\")\n",
    "else:\n",
    " print(f\"The year { year} is not leap year.\")"
   ]
  },
  {
   "cell_type": "code",
   "execution_count": 43,
   "id": "d52cd45c-fd1c-4237-81e7-85b819e376e3",
   "metadata": {},
   "outputs": [
    {
     "name": "stdin",
     "output_type": "stream",
     "text": [
      "enter the no to see prime or not : 5\n"
     ]
    },
    {
     "name": "stdout",
     "output_type": "stream",
     "text": [
      "the number is not a prime no\n"
     ]
    }
   ],
   "source": [
    "#q6)\n",
    "sum=0\n",
    "n=int(input(\"enter the no to see prime or not :\"))\n",
    "for i in range(2,n//2):\n",
    "   if n%i==0:\n",
    "    sum=sum+1\n",
    "if sum>0:\n",
    "  print(\"the number is not a prime no\")\n",
    "else:\n",
    "  print(\"the number is a prime number\")\n",
    " \n",
    " "
   ]
  },
  {
   "cell_type": "code",
   "execution_count": 58,
   "id": "b0371741",
   "metadata": {},
   "outputs": [
    {
     "name": "stdin",
     "output_type": "stream",
     "text": [
      "enter the no 2\n"
     ]
    },
    {
     "name": "stdout",
     "output_type": "stream",
     "text": [
      "2\n"
     ]
    }
   ],
   "source": [
    "x=int(input(\"enter the no\"))\n",
    "a=0\n",
    "sum=0\n",
    "for i in range(2,x+1):\n",
    " a=0\n",
    " for j in range(2,i//2+1):\n",
    "    if i%j==0:\n",
    "        a=a+1\n",
    " if a==0:\n",
    "    sum=sum+i\n",
    "print(sum)\n",
    "\n",
    "   "
   ]
  },
  {
   "cell_type": "code",
   "execution_count": 62,
   "id": "74ca6fb0-894e-49c3-b376-9c4da056653d",
   "metadata": {},
   "outputs": [
    {
     "name": "stdin",
     "output_type": "stream",
     "text": [
      "sum of all prime no is : 5\n"
     ]
    },
    {
     "name": "stdout",
     "output_type": "stream",
     "text": [
      "the sum of prime no is: 10\n"
     ]
    }
   ],
   "source": [
    "#q7)\n",
    "sum1=0\n",
    "n=int(input(\"sum of all prime no is :\"))\n",
    "for j in range(2,n+1):\n",
    " sum=0\n",
    " for i in range(2,(j//2)+1):\n",
    "   if j%i==0:\n",
    "    sum=sum+1\n",
    " if sum==0:\n",
    "   sum1=sum1+j\n",
    "print(\"the sum of prime no is:\",sum1)\n",
    "\n",
    " \n",
    " "
   ]
  },
  {
   "cell_type": "code",
   "execution_count": 111,
   "id": "a3f1cf55-cec1-4ec0-8061-497a11baf9d7",
   "metadata": {},
   "outputs": [
    {
     "name": "stdout",
     "output_type": "stream",
     "text": [
      "enter the number -4\n",
      "enter the number -66\n",
      "enter the number -789\n",
      "enter the number 4\n"
     ]
    },
    {
     "name": "stdout",
     "output_type": "stream",
     "text": [
      "8\n"
     ]
    }
   ],
   "source": [
    "#q8)\n",
    "n=int(input(\"enter the number\"))\n",
    "while n<0:\n",
    "  n=int(input(\"enter the number\"))\n",
    "if n%2==0:\n",
    " print(n*2)\n",
    "else:\n",
    " print(n*n)\n",
    " \n"
   ]
  },
  {
   "cell_type": "code",
   "execution_count": 177,
   "id": "61d2bafd-5fdd-4d48-95ad-aff2b0630b80",
   "metadata": {},
   "outputs": [
    {
     "name": "stdout",
     "output_type": "stream",
     "text": [
      "enter the number: 44.5\n"
     ]
    },
    {
     "name": "stdout",
     "output_type": "stream",
     "text": [
      "Invalid input\n"
     ]
    }
   ],
   "source": [
    "#q9)\n",
    "\n",
    "m=input(\"enter the number:\")\n",
    "try:\n",
    " n=int(m)\n",
    "except ValueError:\n",
    " print(\"Invalid input\")\n",
    "else:\n",
    " remainder=n%5\n",
    " match remainder:\n",
    "  case 1:print(\"remainder is 1\")\n",
    "  case 2:print(\"remainder is 2\")\n",
    "  case 3:print(\"remainder is 3\")\n",
    "  case 4:print(\"remainder is 4\")\n",
    "  case 0:print(\"remainder is 0\")\n",
    "\n",
    "\n",
    "\n",
    "\n",
    "\n",
    "\n"
   ]
  },
  {
   "cell_type": "markdown",
   "id": "b0448da1-c98c-47b2-8dc0-34cbd2da032e",
   "metadata": {
    "jp-MarkdownHeadingCollapsed": true
   },
   "source": [
    "j])"
   ]
  },
  {
   "cell_type": "code",
   "execution_count": 198,
   "id": "858b3510-97b2-43ff-a7e1-0380f4a2391e",
   "metadata": {},
   "outputs": [
    {
     "name": "stdout",
     "output_type": "stream",
     "text": [
      "Enter a String: siva\n"
     ]
    },
    {
     "name": "stdout",
     "output_type": "stream",
     "text": [
      "s\n",
      "si\n",
      "siv\n",
      "siva\n",
      "i\n",
      "iv\n",
      "iva\n",
      "v\n",
      "va\n",
      "a\n"
     ]
    }
   ],
   "source": [
    " #q10)\n",
    "inp=input(\"Enter a String:\")\n",
    " for i in range(len(inp)):\n",
    "   for j in range (i+1 , len(inp)+1):\n",
    "    print(inp[i:j])"
   ]
  },
  {
   "cell_type": "code",
   "execution_count": 3,
   "id": "0e0f29f0-5ed3-4224-baf4-6702ab61c428",
   "metadata": {},
   "outputs": [
    {
     "name": "stdin",
     "output_type": "stream",
     "text": [
      "enter your operator +\n",
      "enter ypur 1st no: 4\n",
      "enter your 2nd no: 5\n"
     ]
    },
    {
     "name": "stdout",
     "output_type": "stream",
     "text": [
      "9\n",
      "enter the correct operator\n"
     ]
    }
   ],
   "source": [
    "operator=input(\"enter your operator\")\n",
    "a=int(input(\"enter ypur 1st no:\"))\n",
    "b=int(input(\"enter your 2nd no:\"))\n",
    "if operator=='+':\n",
    "   print(a+b)\n",
    "elif operator=='-':\n",
    "   print(a-b)\n",
    "elif operator=='/':\n",
    "   print(a/b)\n",
    "elif operator=='*':\n",
    "   print(a*b)\n",
    "elif operator=='exit'\n",
    "       \n",
    "else:\n",
    " print(\"enter the correct operator\")"
   ]
  },
  {
   "cell_type": "code",
   "execution_count": 208,
   "id": "fefed008-a608-401b-a9cf-2f813f98d3fd",
   "metadata": {},
   "outputs": [
    {
     "name": "stdout",
     "output_type": "stream",
     "text": [
      "mean is: 3.5833333333333335\n",
      "median is: 4.0\n",
      "mode is: 4\n"
     ]
    }
   ],
   "source": [
    "#q12\n",
    "import statistics\n",
    "no=[1,2,3,2,3,4,4,4,5,4,5,6]\n",
    "mean = statistics.mean(no)\n",
    "median = statistics.median(no)\n",
    "mode=statistics.mode(no)\n",
    "print(\"mean is:\",mean)\n",
    "print(\"median is:\",median)\n",
    "print(\"mode is:\",mode)\n"
   ]
  },
  {
   "cell_type": "code",
   "execution_count": 256,
   "id": "bb6d5757-7bef-45e0-abcc-1e86679405eb",
   "metadata": {},
   "outputs": [
    {
     "name": "stdout",
     "output_type": "stream",
     "text": [
      "enter the position: b4\n"
     ]
    },
    {
     "name": "stdout",
     "output_type": "stream",
     "text": [
      "1\n",
      "colour is black\n"
     ]
    }
   ],
   "source": [
    "#q13)\n",
    "position=input(\"enter the position:\")\n",
    "col='abcdefgh'\n",
    "#extract the position from the position\n",
    "column=position[0]\n",
    "row=int(position[1])\n",
    "column_index=col.index(column)\n",
    "print(column_index)\n",
    "if ((row+column_index+1)%2==0):\n",
    "    print(\"colour is black\")\n",
    "else:\n",
    "    print(\"colour is white\")\n",
    "\n"
   ]
  },
  {
   "cell_type": "code",
   "execution_count": 272,
   "id": "9221fe0b-e0d8-47c4-8e86-439dd516c4a1",
   "metadata": {},
   "outputs": [
    {
     "name": "stdout",
     "output_type": "stream",
     "text": [
      "Enter a number: 6\n"
     ]
    },
    {
     "name": "stdout",
     "output_type": "stream",
     "text": [
      "6 is a perfect number.\n"
     ]
    }
   ],
   "source": [
    "#q15)\n",
    "n=int(input(\"Enter a number:\"))\n",
    "sum=0\n",
    "for i in range(1,n):\n",
    " if n%i==0:\n",
    "  sum+=i\n",
    "if sum==n:\n",
    " print(f'{n} is a perfect number.')\n",
    "else:\n",
    " print(f'{n} is not a perrfect number.')"
   ]
  },
  {
   "cell_type": "code",
   "execution_count": 317,
   "id": "7155eb13-8e81-4197-8f62-35f563efd67c",
   "metadata": {},
   "outputs": [
    {
     "name": "stdout",
     "output_type": "stream",
     "text": [
      "100 102 105 108 110 114 115 120 125 126 \n",
      "130 132 135 138 140 144 145 150 155 156 \n",
      "160 162 165 168 170 174 175 180 185 186 \n",
      "190 192 195 198 200 204 205 210 215 216 \n",
      "220 222 225 228 230 234 235 240 245 246 \n",
      "250 252 255 258 260 264 265 270 275 276 \n",
      "280 282 285 288 290 294 295 300 305 306 \n",
      "310 312 315 318 320 324 325 330 335 336 \n",
      "340 342 345 348 350 354 355 360 365 366 \n",
      "370 372 375 378 380 384 385 390 395 396 \n",
      "400 402 405 408 410 414 415 420 425 426 \n",
      "430 432 435 438 440 444 445 450 455 456 \n",
      "460 462 465 468 470 474 475 480 485 486 \n",
      "490 492 495 498 500 504 505 510 515 516 \n",
      "520 522 525 528 530 534 535 540 545 546 \n",
      "550 552 555 558 560 564 565 570 575 576 \n",
      "580 582 585 588 590 594 595 600 605 606 \n",
      "610 612 615 618 620 624 625 630 635 636 \n",
      "640 642 645 648 650 654 655 660 665 666 \n",
      "670 672 675 678 680 684 685 690 695 696 \n",
      "700 702 705 708 710 714 715 720 725 726 \n",
      "730 732 735 738 740 744 745 750 755 756 \n",
      "760 762 765 768 770 774 775 780 785 786 \n",
      "790 792 795 798 800 804 805 810 815 816 \n",
      "820 822 825 828 830 834 835 840 845 846 \n",
      "850 852 855 858 860 864 865 870 875 876 \n",
      "880 882 885 888 890 894 895 900 905 906 \n",
      "910 912 915 918 920 924 925 930 935 936 \n",
      "940 942 945 948 950 954 955 960 965 966 \n",
      "970 972 975 978 980 984 985 990 995 996 \n"
     ]
    }
   ],
   "source": [
    "#q17)\n",
    "sum=0\n",
    "for i in range(100,1000):\n",
    "   if i%5==0 or i%6==0 :\n",
    "     print(i,end=\" \")\n",
    "     sum=sum+1\n",
    "     if sum==10:\n",
    "      sum=0\n",
    "      print()\n",
    "\n",
    "  "
   ]
  },
  {
   "cell_type": "code",
   "execution_count": 325,
   "id": "ed52658b-3c16-4396-ad6a-9e8b1d00c43f",
   "metadata": {},
   "outputs": [
    {
     "name": "stdout",
     "output_type": "stream",
     "text": [
      "1 2 3 4 5 6 8 9 10 11 12 13 15 16 17 18 19 20 22 23 24 25 26 27 29 30 31 32 33 34 36 37 38 39 40 41 43 44 45 46 47 48 50 51 52 53 54 55 57 58 59 60 61 62 64 65 66 67 68 69 71 72 73 74 75 76 78 79 80 81 82 83 85 86 87 88 89 90 92 93 94 95 96 97 99 "
     ]
    }
   ],
   "source": [
    "#q18)\n",
    "for i in range(1,100):\n",
    "  if i%7==0:\n",
    "    continue\n",
    "  else:\n",
    "    print(i,end=\" \")\n"
   ]
  },
  {
   "cell_type": "code",
   "execution_count": 343,
   "id": "ddefdadc-4e00-4e79-81b3-1a79e1846483",
   "metadata": {},
   "outputs": [
    {
     "name": "stdout",
     "output_type": "stream",
     "text": [
      "enter the number 2345\n"
     ]
    },
    {
     "name": "stdout",
     "output_type": "stream",
     "text": [
      "5432"
     ]
    }
   ],
   "source": [
    "#q19)\n",
    "n=int(input(\"enter the number\"))\n",
    "while(n!=0):\n",
    "  a=n%10\n",
    "  print(a,end=\"\")\n",
    "  n=n//10"
   ]
  },
  {
   "cell_type": "code",
   "execution_count": 345,
   "id": "deb471f2-7e0d-42f3-8151-6ac8f8b1628c",
   "metadata": {},
   "outputs": [
    {
     "name": "stdout",
     "output_type": "stream",
     "text": [
      "Enter an integer:  6\n"
     ]
    },
    {
     "name": "stdout",
     "output_type": "stream",
     "text": [
      "The smallest factors of the given number in increasing order are: 2, 3\n"
     ]
    }
   ],
   "source": [
    "#q20)\n",
    "# Read an integer from the user\n",
    "number = int(input(\"Enter an integer: \"))\n",
    "\n",
    "# Initialize the list to store the factors\n",
    "factors = []\n",
    "\n",
    "# Start with the smallest prime number\n",
    "divisor = 2\n",
    "\n",
    "# Loop to find the smallest factors\n",
    "while number > 1:\n",
    "    while number % divisor == 0:\n",
    "        factors.append(divisor)\n",
    "        number //= divisor\n",
    "    divisor += 1\n",
    "\n",
    "# Display the factors in increasing order\n",
    "print(\"The smallest factors of the given number in increasing order are:\", ', '.join(map(str, factors)))\n"
   ]
  },
  {
   "cell_type": "code",
   "execution_count": 347,
   "id": "b49295d8-95f0-484e-9ded-224b83ec4a99",
   "metadata": {},
   "outputs": [
    {
     "name": "stdout",
     "output_type": "stream",
     "text": [
      "enter the no: 24\n"
     ]
    },
    {
     "name": "stdout",
     "output_type": "stream",
     "text": [
      "the number is a factorial\n"
     ]
    }
   ],
   "source": [
    "#q21)\n",
    "n=int(input(\"enter the no:\"))\n",
    "fact=1\n",
    "i=1\n",
    "while fact<n:\n",
    "   i=i+1\n",
    "   fact=fact*i\n",
    "if fact==n:\n",
    "  print(\"the number is a factorial\")\n",
    "else:\n",
    "  print(\"the number is not a factorial\")"
   ]
  },
  {
   "cell_type": "code",
   "execution_count": 349,
   "id": "3c4bbaa1-a54d-4bb9-bff3-35b5e883e5bf",
   "metadata": {},
   "outputs": [
    {
     "name": "stdout",
     "output_type": "stream",
     "text": [
      "Enter an integer:  234\n"
     ]
    },
    {
     "name": "stdout",
     "output_type": "stream",
     "text": [
      "TWOTHREEFOUR\n"
     ]
    }
   ],
   "source": [
    "# Read an integer from the user\n",
    "number = input(\"Enter an integer: \")\n",
    "\n",
    "# Initialize a string to store the result\n",
    "result = \"\"\n",
    "\n",
    "# Loop through each character in the input number\n",
    "for digit in number:\n",
    "    if digit == '0':\n",
    "        result += 'ZERO'\n",
    "    elif digit == '1':\n",
    "        result += 'ONE'\n",
    "    elif digit == '2':\n",
    "        result += 'TWO'\n",
    "    elif digit == '3':\n",
    "        result += 'THREE'\n",
    "    elif digit == '4':\n",
    "        result += 'FOUR'\n",
    "    elif digit == '5':\n",
    "        result += 'FIVE'\n",
    "    elif digit == '6':\n",
    "        result += 'SIX'\n",
    "    elif digit == '7':\n",
    "        result += 'SEVEN'\n",
    "    elif digit == '8':\n",
    "        result += 'EIGHT'\n",
    "    elif digit == '9':\n",
    "        result += 'NINE'\n",
    "\n",
    "# Print the result\n",
    "print(result)\n"
   ]
  },
  {
   "cell_type": "code",
   "execution_count": 367,
   "id": "588b3a91-9606-4e1c-ac48-6e3130227315",
   "metadata": {},
   "outputs": [
    {
     "name": "stdout",
     "output_type": "stream",
     "text": [
      "enter the rows 4\n"
     ]
    },
    {
     "name": "stdout",
     "output_type": "stream",
     "text": [
      "   *\n",
      "  **\n",
      " ***\n",
      "****\n"
     ]
    }
   ],
   "source": [
    "#25_b)\n",
    "n=int(input(\"enter the rows\"))\n",
    "for i in range(1,n+1):\n",
    "   print((n-i)*\" \"+i*'*')"
   ]
  },
  {
   "cell_type": "code",
   "execution_count": 359,
   "id": "efb53364-8d24-45e9-b7b4-9fb110b20abf",
   "metadata": {},
   "outputs": [
    {
     "name": "stdout",
     "output_type": "stream",
     "text": [
      "enter the rows 4\n"
     ]
    },
    {
     "name": "stdout",
     "output_type": "stream",
     "text": [
      "****\n",
      " ***\n",
      "  **\n",
      "   *\n"
     ]
    }
   ],
   "source": [
    "#25_c)\n",
    "n=int(input(\"enter the rows\"))\n",
    "for i in range(n,0,-1):\n",
    "    print((n-i) * \" \" + i*'*')\n",
    "\n"
   ]
  },
  {
   "cell_type": "code",
   "execution_count": 369,
   "id": "2cde74d4-84b9-4674-8945-05ae4810a66a",
   "metadata": {},
   "outputs": [
    {
     "name": "stdout",
     "output_type": "stream",
     "text": [
      "enter the no of rows: 4\n"
     ]
    },
    {
     "name": "stdout",
     "output_type": "stream",
     "text": [
      "****\n",
      "***\n",
      "**\n",
      "*\n"
     ]
    }
   ],
   "source": [
    "#q25_d)\n",
    "n=int(input(\"enter the no of rows:\"))\n",
    "for i in range(0,n):\n",
    "  print((n-i)*\"*\")"
   ]
  },
  {
   "cell_type": "code",
   "execution_count": 371,
   "id": "c17b02b6-e06b-446e-b51c-f529c6e4a3b7",
   "metadata": {},
   "outputs": [
    {
     "name": "stdout",
     "output_type": "stream",
     "text": [
      "* * * * \n",
      " * * * \n",
      "  * * \n",
      "   * \n"
     ]
    }
   ],
   "source": [
    "#q25_e)\n",
    "# Number of rows\n",
    "rows = 4\n",
    "\n",
    "# Loop through each row\n",
    "for i in range(rows):\n",
    "    # Print the pattern for each row\n",
    "    print(\" \" * i + \"* \" * (rows - i))\n"
   ]
  },
  {
   "cell_type": "code",
   "execution_count": 373,
   "id": "9f96b347-ccfe-46fc-bd22-3dca6dda190d",
   "metadata": {},
   "outputs": [
    {
     "name": "stdout",
     "output_type": "stream",
     "text": [
      "   *\n",
      "  ***\n",
      " *****\n",
      " *****\n",
      "  ***\n",
      "   *\n"
     ]
    }
   ],
   "source": [
    "#q25_f)\n",
    "# Number of rows for the upper half (excluding the middle)\n",
    "rows = 3\n",
    "\n",
    "# Loop for the upper half of the diamond (including the middle row)\n",
    "for i in range(rows):\n",
    "    print(\" \" * (rows - i) + \"*\" * (2 * i + 1))\n",
    "\n",
    "# Loop for the lower half of the diamond\n",
    "for i in range(rows - 1, -1, -1):\n",
    "    print(\" \" * (rows - i) + \"*\" * (2 * i + 1))\n"
   ]
  },
  {
   "cell_type": "code",
   "execution_count": 19,
   "id": "5bf91161-67fe-470e-a136-14f9f9a3b7f2",
   "metadata": {},
   "outputs": [
    {
     "name": "stdin",
     "output_type": "stream",
     "text": [
      "enter the operator *\n",
      "enter the first operator 9\n",
      "enter the second operator 9\n"
     ]
    },
    {
     "name": "stdout",
     "output_type": "stream",
     "text": [
      "81\n"
     ]
    }
   ],
   "source": [
    "#practise  Q11\n",
    "\n",
    "op=input(\"enter the operator\")\n",
    "a=int(input(\"enter the first operator\"))\n",
    "b=int(input(\"enter the second operator\"))\n",
    "\n",
    "match op:\n",
    " case '+':\n",
    "  print (a+b)\n",
    " case '-':\n",
    "  print (a-b)\n",
    " case '*':\n",
    "  print(a*b)\n",
    " case _:\n",
    "  print(\"enter the correct option\")\n"
   ]
  },
  {
   "cell_type": "code",
   "execution_count": null,
   "id": "0ddb4f2f-510d-482d-9069-23624edf0d6b",
   "metadata": {},
   "outputs": [],
   "source": []
  },
  {
   "cell_type": "code",
   "execution_count": null,
   "id": "7d2260f0-eec6-4582-bfaa-7b396d99011c",
   "metadata": {},
   "outputs": [],
   "source": []
  }
 ],
 "metadata": {
  "kernelspec": {
   "display_name": "Python 3 (ipykernel)",
   "language": "python",
   "name": "python3"
  },
  "language_info": {
   "codemirror_mode": {
    "name": "ipython",
    "version": 3
   },
   "file_extension": ".py",
   "mimetype": "text/x-python",
   "name": "python",
   "nbconvert_exporter": "python",
   "pygments_lexer": "ipython3",
   "version": "3.12.4"
  }
 },
 "nbformat": 4,
 "nbformat_minor": 5
}
