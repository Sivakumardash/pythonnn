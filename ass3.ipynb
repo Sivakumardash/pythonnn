{
 "cells": [
  {
   "cell_type": "code",
   "execution_count": 10,
   "id": "4c4bf89a-7292-4b07-9018-57bbcc2b0345",
   "metadata": {},
   "outputs": [
    {
     "name": "stdout",
     "output_type": "stream",
     "text": [
      "3   2   1\n"
     ]
    }
   ],
   "source": [
    "#q1)\n",
    "def num(no):\n",
    "\n",
    "  n=no\n",
    "  l1=-1\n",
    "  l2=-1\n",
    "  l3=-1\n",
    "  while n>0:\n",
    "   a=n%10\n",
    "   n=n//10\n",
    "   if a>l1:\n",
    "     l3=l2\n",
    "     l2=l1\n",
    "     l1=a\n",
    "   elif a>l2:\n",
    "      l3=l2\n",
    "      l2=a\n",
    "   elif a>l3:\n",
    "      l3=a\n",
    "  print(l1,\" \",l2,\" \",l3)\n",
    "\n",
    "num(321)"
   ]
  },
  {
   "cell_type": "code",
   "execution_count": 4,
   "id": "2a244027-8ddd-4d8a-a9cb-06380db6f3d8",
   "metadata": {},
   "outputs": [
    {
     "name": "stdout",
     "output_type": "stream",
     "text": [
      "105 120 135 150 165 180 195 210 225 240 255 270 285 300 315 330 345 360 375 390 405 420 435 450 465 480 495 "
     ]
    }
   ],
   "source": [
    "#q2)\n",
    "def num(a,b):\n",
    " for i in range(a,b):\n",
    "    if i%3==0 and i%5==0:\n",
    "      print(i,end=\" \")\n",
    "\n",
    "num(100,500)"
   ]
  },
  {
   "cell_type": "code",
   "execution_count": 5,
   "id": "5ebeb51c-f28e-4c8c-8b99-4e8ddd5c358a",
   "metadata": {},
   "outputs": [
    {
     "name": "stdout",
     "output_type": "stream",
     "text": [
      "4 16 36 64 100 144 196 256 324 400 484 576 676 784 900 1024 1156 1296 1444 1600 1764 1936 2116 2304 2500 "
     ]
    }
   ],
   "source": [
    "#q3)\n",
    "def square():\n",
    "  for i in range(1,51):\n",
    "    if i%2==0:\n",
    "      print(i**2, end=\" \")\n",
    "square()"
   ]
  },
  {
   "cell_type": "code",
   "execution_count": 73,
   "id": "372bb941-f7fc-4e87-9e09-bf7a73a9d5ca",
   "metadata": {},
   "outputs": [
    {
     "name": "stdin",
     "output_type": "stream",
     "text": [
      "enter the string asff\n"
     ]
    },
    {
     "name": "stdout",
     "output_type": "stream",
     "text": [
      "ffsa\n"
     ]
    }
   ],
   "source": [
    "#q4)\n",
    "def rev_string(s):\n",
    "  for i in range(len(s)-1,-1,-1):\n",
    "      print(s[i],end=\"\")\n",
    "  print()\n",
    "\n",
    "\n",
    "a=input(\"enter the string\")  \n",
    "rev_string(a)\n"
   ]
  },
  {
   "cell_type": "code",
   "execution_count": 57,
   "id": "54840ad2-7ad7-4113-9b08-fc4f51c41030",
   "metadata": {},
   "outputs": [
    {
     "name": "stdin",
     "output_type": "stream",
     "text": [
      "enter the number: 678909876543212345678765432123\n"
     ]
    },
    {
     "name": "stdout",
     "output_type": "stream",
     "text": [
      "no of digit is: 30\n"
     ]
    }
   ],
   "source": [
    "#q5)\n",
    "def digit(n):\n",
    " sum=0\n",
    " while(n>0):\n",
    "     n=n//10\n",
    "     sum=sum+1\n",
    " return(sum)\n",
    " \n",
    "\n",
    "\n",
    "\n",
    "n=int(input(\"enter the number:\"))\n",
    "num=digit(n)\n",
    "print(\"no of digit is:\",num)"
   ]
  },
  {
   "cell_type": "code",
   "execution_count": 53,
   "id": "108f090b-3a24-415a-bc3f-8039b7d64baf",
   "metadata": {},
   "outputs": [
    {
     "name": "stdin",
     "output_type": "stream",
     "text": [
      "enter the string yiu\n"
     ]
    },
    {
     "name": "stdout",
     "output_type": "stream",
     "text": [
      "uiy\n",
      "it is not a palimdrom\n"
     ]
    }
   ],
   "source": [
    "#q6)\n",
    "def palim(s):\n",
    "    s2=\"\"\n",
    "    for i in range(len(s)-1,-1,-1):\n",
    "       s2=s2+s[i]\n",
    "    print(s2)\n",
    "    if s2==s:\n",
    "        print(\"it is a palimdrom\")\n",
    "    else:\n",
    "        print(\"it is not a palimdrom\")\n",
    "\n",
    "s=input(\"enter the string\")\n",
    "palim(s)"
   ]
  },
  {
   "cell_type": "code",
   "execution_count": 65,
   "id": "e92e7d50-e2d3-4c02-9cdb-fef0b79eea30",
   "metadata": {},
   "outputs": [
    {
     "name": "stdin",
     "output_type": "stream",
     "text": [
      "enter the char: i\n"
     ]
    },
    {
     "name": "stdout",
     "output_type": "stream",
     "text": [
      "it is a vowel\n"
     ]
    }
   ],
   "source": [
    "#q7)\n",
    "def vowel(c):\n",
    "  a=\"aeiouAEIOU\"\n",
    "  for vo in a:\n",
    "     if c==vo:\n",
    "       return (\"it is a vowel\")\n",
    "  return(\"not a vowel\")\n",
    "        \n",
    "      \n",
    "  \n",
    "\n",
    "\n",
    "c=input(\"enter the char:\")\n",
    "a=vowel(c)\n",
    "print(a)"
   ]
  },
  {
   "cell_type": "code",
   "execution_count": 93,
   "id": "fb30d3cf-e678-402e-830d-76571570a931",
   "metadata": {},
   "outputs": [
    {
     "name": "stdin",
     "output_type": "stream",
     "text": [
      "enter the month: january\n"
     ]
    },
    {
     "name": "stdout",
     "output_type": "stream",
     "text": [
      "31\n"
     ]
    }
   ],
   "source": [
    "#q8)\n",
    "def mthcount(mth):\n",
    "    mth=mth.lower()\n",
    "    if mth in (\"january\",\"march\",\"may\",\"july\",\"august\",\"octuber\",\"december\"):\n",
    "        return(31)\n",
    "    elif mth in [\"april\",\"june\",\"august\",\"september\",\"november\"]:\n",
    "        return(\"30 days\")\n",
    "    elif mth in (\"feburary\"):\n",
    "        return(\"28/29 days\") \n",
    "    else:\n",
    "        return(\"invalid input\")\n",
    "    \n",
    "    \n",
    "    \n",
    "\n",
    "\n",
    "mth=input(\"enter the month:\")\n",
    "no=mthcount(mth)\n",
    "print(no)\n"
   ]
  },
  {
   "cell_type": "code",
   "execution_count": 169,
   "id": "e7efcc22-ac8c-4c3e-9fbe-5b30e48b5da8",
   "metadata": {},
   "outputs": [
    {
     "name": "stdin",
     "output_type": "stream",
     "text": [
      "enter the binary number: 111\n"
     ]
    },
    {
     "name": "stdout",
     "output_type": "stream",
     "text": [
      "7\n"
     ]
    },
    {
     "ename": "TypeError",
     "evalue": "'str' object is not callable",
     "output_type": "error",
     "traceback": [
      "\u001b[1;31m---------------------------------------------------------------------------\u001b[0m",
      "\u001b[1;31mTypeError\u001b[0m                                 Traceback (most recent call last)",
      "Cell \u001b[1;32mIn[169], line 23\u001b[0m\n\u001b[0;32m     21\u001b[0m n\u001b[38;5;241m=\u001b[39m\u001b[38;5;28minput\u001b[39m(\u001b[38;5;124m\"\u001b[39m\u001b[38;5;124menter the binary number:\u001b[39m\u001b[38;5;124m\"\u001b[39m)\n\u001b[0;32m     22\u001b[0m btd(n)\n\u001b[1;32m---> 23\u001b[0m dtb(\u001b[38;5;241m22\u001b[39m)\n",
      "Cell \u001b[1;32mIn[169], line 16\u001b[0m, in \u001b[0;36mdtb\u001b[1;34m(decimal)\u001b[0m\n\u001b[0;32m     14\u001b[0m binary \u001b[38;5;241m=\u001b[39m \u001b[38;5;124m\"\u001b[39m\u001b[38;5;124m\"\u001b[39m\n\u001b[0;32m     15\u001b[0m \u001b[38;5;28;01mwhile\u001b[39;00m decimal \u001b[38;5;241m>\u001b[39m \u001b[38;5;241m0\u001b[39m:\n\u001b[1;32m---> 16\u001b[0m     binary \u001b[38;5;241m=\u001b[39m \u001b[38;5;28mstr\u001b[39m(decimal \u001b[38;5;241m%\u001b[39m \u001b[38;5;241m2\u001b[39m) \u001b[38;5;241m+\u001b[39m binary\n\u001b[0;32m     17\u001b[0m     decimal \u001b[38;5;241m=\u001b[39m decimal \u001b[38;5;241m/\u001b[39m\u001b[38;5;241m/\u001b[39m \u001b[38;5;241m2\u001b[39m\n\u001b[0;32m     18\u001b[0m \u001b[38;5;28mprint\u001b[39m( binary)\n",
      "\u001b[1;31mTypeError\u001b[0m: 'str' object is not callable"
     ]
    }
   ],
   "source": [
    "#q9\n",
    "def btd(n):\n",
    "    s=n\n",
    "    j=0\n",
    "    c=0\n",
    "    for i in range(len(s)-1,-1,-1):\n",
    "        c=c+int(s[i])*2**j\n",
    "        j=j+1\n",
    "    print(c)\n",
    "\n",
    "def dtb(decimal):\n",
    "    if decimal == 0:\n",
    "        return \"0\"\n",
    "    binary = \"\"\n",
    "    while decimal > 0:\n",
    "        binary = str(decimal % 2) + binary\n",
    "        decimal = decimal // 2\n",
    "    print( binary)\n",
    "\n",
    "\n",
    "n=input(\"enter the binary number:\")\n",
    "btd(n)\n",
    "dtb(22)"
   ]
  },
  {
   "cell_type": "code",
   "execution_count": 171,
   "id": "b1d54d42-ff6b-4099-bde8-b2cd4249ed11",
   "metadata": {},
   "outputs": [
    {
     "name": "stdout",
     "output_type": "stream",
     "text": [
      "Unique permutations of 'abc': ['abc', 'acb', 'cba', 'cab', 'bac', 'bca']\n"
     ]
    }
   ],
   "source": [
    "#q10\n",
    "import itertools\n",
    "\n",
    "def unique_permutations(s):\n",
    "    # Generate all permutations using itertools.permutations\n",
    "    perms = itertools.permutations(s)\n",
    "    # Convert permutations to a set to ensure uniqueness\n",
    "    unique_perms = set(perms)\n",
    "    # Convert each permutation tuple back to a string\n",
    "    result = [''.join(p) for p in unique_perms]\n",
    "    return result\n",
    "\n",
    "# Example usage\n",
    "input_string = \"abc\"\n",
    "permutations = unique_permutations(input_string)\n",
    "print(f\"Unique permutations of '{input_string}': {permutations}\")\n"
   ]
  },
  {
   "cell_type": "code",
   "execution_count": 16,
   "id": "99cf366f-27d4-4a58-8bf8-f1692b666f71",
   "metadata": {},
   "outputs": [
    {
     "name": "stdin",
     "output_type": "stream",
     "text": [
      "enter the romain number: XIII\n"
     ]
    },
    {
     "name": "stdout",
     "output_type": "stream",
     "text": [
      "13\n"
     ]
    }
   ],
   "source": [
    "#q13\n",
    "\n",
    "def rtd(a):\n",
    "    b=0\n",
    "    pv=0\n",
    "    rv={'I':1,'V':5,'X':10,'L':50,'C':100}\n",
    "    for i in reversed(a):\n",
    "        if rv[i]>=pv:\n",
    "            b=b+rv[i]\n",
    "        else:\n",
    "            b=b-rv[i]\n",
    "        pv=rv[i]\n",
    "\n",
    "    print(b)\n",
    "\n",
    "\n",
    "\n",
    "a=input(\"enter the romain number:\")\n",
    "rtd(a)"
   ]
  },
  {
   "cell_type": "code",
   "execution_count": 1,
   "id": "cf9fb344-996e-424e-b20f-eafbe3a8b2e0",
   "metadata": {},
   "outputs": [
    {
     "name": "stdin",
     "output_type": "stream",
     "text": [
      "enter the no : 456\n"
     ]
    },
    {
     "ename": "TypeError",
     "evalue": "object of type 'int' has no len()",
     "output_type": "error",
     "traceback": [
      "\u001b[1;31m---------------------------------------------------------------------------\u001b[0m",
      "\u001b[1;31mTypeError\u001b[0m                                 Traceback (most recent call last)",
      "Cell \u001b[1;32mIn[1], line 24\u001b[0m\n\u001b[0;32m     21\u001b[0m         \u001b[38;5;28mprint\u001b[39m (\u001b[38;5;124m\"\u001b[39m\u001b[38;5;124mthe no is not a armstrong no\u001b[39m\u001b[38;5;124m\"\u001b[39m)\n\u001b[0;32m     23\u001b[0m n\u001b[38;5;241m=\u001b[39m\u001b[38;5;28mint\u001b[39m(\u001b[38;5;28minput\u001b[39m(\u001b[38;5;124m\"\u001b[39m\u001b[38;5;124menter the no :\u001b[39m\u001b[38;5;124m\"\u001b[39m))\n\u001b[1;32m---> 24\u001b[0m armstrong(n)\n",
      "Cell \u001b[1;32mIn[1], line 8\u001b[0m, in \u001b[0;36marmstrong\u001b[1;34m(n)\u001b[0m\n\u001b[0;32m      6\u001b[0m r\u001b[38;5;241m=\u001b[39m\u001b[38;5;241m0\u001b[39m\n\u001b[0;32m      7\u001b[0m \u001b[38;5;28msum\u001b[39m\u001b[38;5;241m=\u001b[39m\u001b[38;5;241m0\u001b[39m\n\u001b[1;32m----> 8\u001b[0m \u001b[38;5;28msum\u001b[39m\u001b[38;5;241m=\u001b[39m\u001b[38;5;28mlen\u001b[39m(n)\n\u001b[0;32m      9\u001b[0m \u001b[38;5;28mprint\u001b[39m(\u001b[38;5;28msum\u001b[39m)\n\u001b[0;32m     11\u001b[0m ab\u001b[38;5;241m=\u001b[39m\u001b[38;5;241m0\u001b[39m\n",
      "\u001b[1;31mTypeError\u001b[0m: object of type 'int' has no len()"
     ]
    }
   ],
   "source": [
    "#q14  Write a function to determine if a given number is an Armstrong number\n",
    "\n",
    "def armstrong(n):\n",
    "    a=n\n",
    "    b=n\n",
    "    r=0\n",
    "    sum=0\n",
    "    sum=len(str(n))\n",
    "    print(sum)\n",
    "   \n",
    "    ab=0\n",
    "    while(b!=0):\n",
    "        r=b%10\n",
    "        ab=ab+r**sum\n",
    "        b=b//10\n",
    "    print(ab)\n",
    "\n",
    "    if n==ab:\n",
    "        print (\"the number is armstrong number\")\n",
    "    else:\n",
    "        print (\"the no is not a armstrong no\")\n",
    "\n",
    "n=int(input(\"enter the no :\"))\n",
    "armstrong(n)"
   ]
  },
  {
   "cell_type": "code",
   "execution_count": 46,
   "id": "310132c4-b0ca-4801-927c-64ade97a3900",
   "metadata": {},
   "outputs": [
    {
     "name": "stdin",
     "output_type": "stream",
     "text": [
      "enter the 1st no 9\n",
      "enter the 2 nd no 0\n",
      "enter the operator +\n"
     ]
    },
    {
     "name": "stdout",
     "output_type": "stream",
     "text": [
      "the result is: 9.0\n"
     ]
    }
   ],
   "source": [
    "#q16\n",
    "def cal(a,b,c):\n",
    "    if c==\"+\":\n",
    "        return a+b\n",
    "    elif c==\"-\":\n",
    "        return a-b\n",
    "    elif c==\"/\":\n",
    "        return a/b\n",
    "    elif c==\"*\":\n",
    "        return a*b\n",
    "    else:\n",
    "        return (\"invalid operator\")\n",
    "\n",
    "a=float(input(\"enter the 1st no\"))\n",
    "b=float(input(\"enter the 2 nd no\"))\n",
    "c=input(\"enter the operator\")\n",
    "result=cal(a,b,c)\n",
    "print(\"the result is:\",result)"
   ]
  },
  {
   "cell_type": "code",
   "execution_count": 107,
   "id": "4aebb4e2-6384-4790-bddc-7de5e2f4aad2",
   "metadata": {},
   "outputs": [
    {
     "name": "stdin",
     "output_type": "stream",
     "text": [
      "Enter the first number:  3\n",
      "Enter the operator (+, -, *, /):  +\n",
      "enter the 2nd no: 5\n"
     ]
    },
    {
     "name": "stdout",
     "output_type": "stream",
     "text": [
      "The result is: 8.0\n"
     ]
    }
   ],
   "source": [
    "#q16)\n",
    "def basic_calculator(num1,num2,operator):\n",
    " \n",
    "    # Perform the calculation based on the operator using match-case\n",
    "    match operator:\n",
    "        case '+':\n",
    "            result = num1 + num2\n",
    "        case '-':\n",
    "            result = num1 - num2\n",
    "        case '*':\n",
    "            result = num1 * num2\n",
    "        case '/':\n",
    "            if num2 != 0:\n",
    "                result = num1 / num2\n",
    "            else:\n",
    "                return \"Error: Division by zero is not allowed.\"\n",
    "        case default :\n",
    "            return \"Error: Invalid operator.\"\n",
    "    \n",
    "    return f\"The result is: {result}\"\n",
    "\n",
    "\n",
    " # Prompt user for the first number\n",
    "num1 = float(input(\"Enter the first number: \"))\n",
    "    \n",
    "    # Prompt user for the operator\n",
    "operator = input(\"Enter the operator (+, -, *, /): \")\n",
    "    \n",
    "    # Prompt user for the second number\n",
    "num2 = float(input(\"enter the 2nd no:\"))\n",
    "result = basic_calculator(num1,num2,operator)\n",
    "print(result)\n",
    "\n"
   ]
  },
  {
   "cell_type": "code",
   "execution_count": 70,
   "id": "8b76a170-0883-4840-8102-471d79e739b0",
   "metadata": {},
   "outputs": [
    {
     "name": "stdout",
     "output_type": "stream",
     "text": [
      "Original string: This is a simple example.\n",
      "String without vowels: Ths s  smpl xmpl.\n"
     ]
    }
   ],
   "source": [
    "#q17\n",
    "def remove_vowels(s):\n",
    "    vowels = \"aeiouAEIOU\"\n",
    "    result = []\n",
    "    for char in s:\n",
    "        if char not in vowels:\n",
    "            result.append(char)\n",
    "\n",
    "    # Convert the list back to a string\n",
    "    output_string = \"\"\n",
    "    for char in result:\n",
    "        output_string += char\n",
    "    \n",
    "    return output_string\n",
    "\n",
    "# Example usage\n",
    "input_string = \"This is a simple example.\"\n",
    "output_string = remove_vowels(input_string)\n",
    "print(f\"Original string: {input_string}\")\n",
    "print(f\"String without vowels: {output_string}\")\n"
   ]
  },
  {
   "cell_type": "code",
   "execution_count": 203,
   "id": "2412c42c-2bbc-4f67-9ee4-5bd27a52f55c",
   "metadata": {},
   "outputs": [
    {
     "name": "stdin",
     "output_type": "stream",
     "text": [
      "enter the 1st number 40\n",
      "enter the 2nd number 48\n"
     ]
    },
    {
     "name": "stdout",
     "output_type": "stream",
     "text": [
      "8\n"
     ]
    }
   ],
   "source": [
    "#q19)\n",
    "def gcd(a,b):\n",
    "  while b!=0:\n",
    "    a,b=b,a%b\n",
    "  print (a)\n",
    "\n",
    "\n",
    "a=int(input(\"enter the 1st number\"))\n",
    "b=int(input(\"enter the 2nd number\"))\n",
    "gcd(a,b)\n",
    "\n"
   ]
  },
  {
   "cell_type": "code",
   "execution_count": 227,
   "id": "f3614cec-f5bb-437b-94fa-6b3c125220f9",
   "metadata": {},
   "outputs": [
    {
     "name": "stdout",
     "output_type": "stream",
     "text": [
      "1 2 3 5 7 11 13 17 19 23 29 31 37 41 43 47 53 59 61 67 71 73 79 83 89 97 "
     ]
    }
   ],
   "source": [
    "#q20)\n",
    "def isprime(a,b):\n",
    " for i in range(a,b):\n",
    "  sum=0\n",
    "  for j in range(2,i//2+1):\n",
    "      if i%j==0:\n",
    "        sum=sum+1\n",
    "  if sum==0:\n",
    "        print(i,end=\" \")\n",
    "\n",
    "isprime(1,100)"
   ]
  },
  {
   "cell_type": "code",
   "execution_count": 223,
   "id": "aaa7cdad-031a-4ed6-bcb7-df2c1dfce27f",
   "metadata": {},
   "outputs": [
    {
     "name": "stdin",
     "output_type": "stream",
     "text": [
      "enter the number: 5\n"
     ]
    },
    {
     "name": "stdout",
     "output_type": "stream",
     "text": [
      "120\n"
     ]
    }
   ],
   "source": [
    "#21)\n",
    "def fact(n):\n",
    " fact=1\n",
    " for i in range(n,0,-1):\n",
    "   fact=fact*i\n",
    " print(fact)\n",
    "n=int(input(\"enter the number:\"))\n",
    "fact(n)"
   ]
  },
  {
   "cell_type": "code",
   "execution_count": 229,
   "id": "9178af48-9a2d-40a4-99e5-e40c9a9d5a02",
   "metadata": {},
   "outputs": [
    {
     "name": "stdout",
     "output_type": "stream",
     "text": [
      "The first 10 terms of the arithmetic progression are: [5, 8, 11, 14, 17, 20, 23, 26, 29, 32]\n"
     ]
    }
   ],
   "source": [
    "#q22)\n",
    "def print_arithmetic_progression(first_term, common_difference):\n",
    "    terms = []\n",
    "    for i in range(10):\n",
    "        term = first_term + i * common_difference\n",
    "        terms.append(term)\n",
    "    print(\"The first 10 terms of the arithmetic progression are:\", terms)\n",
    "\n",
    "# Example usage\n",
    "first_term = 5\n",
    "common_difference = 3\n",
    "print_arithmetic_progression(first_term, common_difference)\n"
   ]
  },
  {
   "cell_type": "code",
   "execution_count": 17,
   "id": "4767f860-90c1-437b-b1a6-bb1b9d9125c7",
   "metadata": {},
   "outputs": [
    {
     "name": "stdout",
     "output_type": "stream",
     "text": [
      "The indices of vowels in 'Hello, World!' are: [1, 4, 8]\n"
     ]
    }
   ],
   "source": [
    "#q23)\n",
    "def find_vowel_indices(s):\n",
    "    vowels = \"aeiouAEIOU\"\n",
    "    indices = []\n",
    "    for i in range(len(s)):\n",
    "        if s[i] in vowels:\n",
    "            indices.append(i)\n",
    "    return indices\n",
    "\n",
    "# Example usage\n",
    "st = \"Hello, World!\"\n",
    "vowel_indices = find_vowel_indices(st)\n",
    "print(f\"The indices of vowels in '{st}' are: {vowel_indices}\")\n",
    "\n"
   ]
  },
  {
   "cell_type": "code",
   "execution_count": null,
   "id": "ba94d1e2-5df9-4897-84df-f6924c4b456b",
   "metadata": {},
   "outputs": [],
   "source": []
  },
  {
   "cell_type": "code",
   "execution_count": 13,
   "id": "8a3f3dc8-d0b0-482b-a33a-707f4aa1b7f2",
   "metadata": {},
   "outputs": [
    {
     "name": "stdout",
     "output_type": "stream",
     "text": [
      "coprime no\n"
     ]
    }
   ],
   "source": [
    "def gcd(a, b):\n",
    "    while b != 0:\n",
    "        a, b = b, a % b\n",
    "    return a\n",
    "\n",
    "def are_coprime(num1, num2):\n",
    "    if gcd(num1, num2) == 1:\n",
    "      print(\"coprime no\")\n",
    "    else:\n",
    "      print(\"not a coprime no\")\n",
    "     \n",
    "\n",
    "# Example usage\n",
    "num1 = 14\n",
    "num2 = 15\n",
    "result = are_coprime(num1, num2)\n",
    "\n"
   ]
  },
  {
   "cell_type": "code",
   "execution_count": 247,
   "id": "16451442-8760-4bc4-9e2c-53de5820864d",
   "metadata": {},
   "outputs": [
    {
     "name": "stdin",
     "output_type": "stream",
     "text": [
      "enter a string: 12234\n"
     ]
    },
    {
     "name": "stdout",
     "output_type": "stream",
     "text": [
      "onetwotwothreefour\n"
     ]
    }
   ],
   "source": [
    "#q27)\n",
    "def dig_to_txt(s):\n",
    " ans=\"\"\n",
    " digit=[\"zero\",\"one\",\"two\",\"three\",\"four\",\"five\",\"six\",\"seven\",\"eight\"]\n",
    " for i in s:\n",
    "  index=int(i)\n",
    "  ans=ans+digit[index]\n",
    " print(ans)\n",
    "a=input(\"enter a string:\")\n",
    "dig_to_txt(a)\n",
    "  \n"
   ]
  },
  {
   "cell_type": "code",
   "execution_count": 103,
   "id": "a17ae9d2-631f-47df-974e-c2cc5ec6f630",
   "metadata": {},
   "outputs": [
    {
     "name": "stdin",
     "output_type": "stream",
     "text": [
      "enter the nos: 5\n"
     ]
    },
    {
     "name": "stdout",
     "output_type": "stream",
     "text": [
      "327\n"
     ]
    }
   ],
   "source": [
    "import random\n",
    "n=int(input(\"enter the nos:\"))\n",
    "a=[random.randint(0,100)for i in range(n)]\n",
    "s=sum(a)\n",
    "print(s)\n"
   ]
  },
  {
   "cell_type": "code",
   "execution_count": 263,
   "id": "55cd7815-a58f-4137-a561-8246ea996213",
   "metadata": {},
   "outputs": [
    {
     "name": "stdin",
     "output_type": "stream",
     "text": [
      "Enter the number of random values:  7\n"
     ]
    },
    {
     "ename": "TypeError",
     "evalue": "'int' object is not callable",
     "output_type": "error",
     "traceback": [
      "\u001b[1;31m---------------------------------------------------------------------------\u001b[0m",
      "\u001b[1;31mTypeError\u001b[0m                                 Traceback (most recent call last)",
      "Cell \u001b[1;32mIn[263], line 10\u001b[0m\n\u001b[0;32m      7\u001b[0m a \u001b[38;5;241m=\u001b[39m [random\u001b[38;5;241m.\u001b[39mrandint(\u001b[38;5;241m0\u001b[39m, \u001b[38;5;241m100\u001b[39m) \u001b[38;5;28;01mfor\u001b[39;00m i \u001b[38;5;129;01min\u001b[39;00m \u001b[38;5;28mrange\u001b[39m(n)]\n\u001b[0;32m      9\u001b[0m \u001b[38;5;66;03m# Calculate the sum of the list\u001b[39;00m\n\u001b[1;32m---> 10\u001b[0m s \u001b[38;5;241m=\u001b[39m \u001b[38;5;28msum\u001b[39m(a)\n\u001b[0;32m     12\u001b[0m \u001b[38;5;66;03m# Print the generated list and its sum\u001b[39;00m\n\u001b[0;32m     13\u001b[0m \u001b[38;5;28mprint\u001b[39m(\u001b[38;5;124mf\u001b[39m\u001b[38;5;124m\"\u001b[39m\u001b[38;5;124mGenerated list: \u001b[39m\u001b[38;5;132;01m{\u001b[39;00ma\u001b[38;5;132;01m}\u001b[39;00m\u001b[38;5;124m\"\u001b[39m)\n",
      "\u001b[1;31mTypeError\u001b[0m: 'int' object is not callable"
     ]
    }
   ],
   "source": []
  },
  {
   "cell_type": "code",
   "execution_count": 117,
   "id": "3264bd22-a58a-401d-8368-1e2b7ae61790",
   "metadata": {},
   "outputs": [
    {
     "name": "stdin",
     "output_type": "stream",
     "text": [
      "enter the no: 28\n"
     ]
    },
    {
     "name": "stdout",
     "output_type": "stream",
     "text": [
      "perfect no\n"
     ]
    }
   ],
   "source": [
    "#29\n",
    "def perfect(a):\n",
    "    sum=0\n",
    "    for i in range(1,a//2+1):\n",
    "        if a%i==0:\n",
    "            sum=sum+i\n",
    "    if sum==a:\n",
    "        print(\"perfect no\")\n",
    "    else:\n",
    "        print(\"not a perfect no\")\n",
    "\n",
    "a=int(input(\"enter the no:\"))\n",
    "perfect(a)"
   ]
  },
  {
   "cell_type": "code",
   "execution_count": null,
   "id": "b6b9bd4b-a7d1-4376-b367-8178d62f14ab",
   "metadata": {},
   "outputs": [],
   "source": []
  }
 ],
 "metadata": {
  "kernelspec": {
   "display_name": "Python 3 (ipykernel)",
   "language": "python",
   "name": "python3"
  },
  "language_info": {
   "codemirror_mode": {
    "name": "ipython",
    "version": 3
   },
   "file_extension": ".py",
   "mimetype": "text/x-python",
   "name": "python",
   "nbconvert_exporter": "python",
   "pygments_lexer": "ipython3",
   "version": "3.12.4"
  }
 },
 "nbformat": 4,
 "nbformat_minor": 5
}
