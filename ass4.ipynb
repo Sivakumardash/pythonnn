{
 "cells": [
  {
   "cell_type": "code",
   "execution_count": 19,
   "id": "2151a393-70e6-45ce-a223-b08b65de4ac4",
   "metadata": {},
   "outputs": [
    {
     "ename": "TypeError",
     "evalue": "'int' object is not callable",
     "output_type": "error",
     "traceback": [
      "\u001b[1;31m---------------------------------------------------------------------------\u001b[0m",
      "\u001b[1;31mTypeError\u001b[0m                                 Traceback (most recent call last)",
      "Cell \u001b[1;32mIn[19], line 5\u001b[0m\n\u001b[0;32m      3\u001b[0m \u001b[38;5;28;01mfor\u001b[39;00m i \u001b[38;5;129;01min\u001b[39;00m \u001b[38;5;28mrange\u001b[39m(\u001b[38;5;241m100\u001b[39m):\n\u001b[0;32m      4\u001b[0m     s\u001b[38;5;241m.\u001b[39mappend(random\u001b[38;5;241m.\u001b[39mrandint(\u001b[38;5;241m1\u001b[39m,\u001b[38;5;241m100\u001b[39m))\n\u001b[1;32m----> 5\u001b[0m su\u001b[38;5;241m=\u001b[39m\u001b[38;5;28msum\u001b[39m(s)\n\u001b[0;32m      6\u001b[0m \u001b[38;5;28mprint\u001b[39m(s,end\u001b[38;5;241m=\u001b[39m\u001b[38;5;124m\"\u001b[39m\u001b[38;5;124m\"\u001b[39m)\n\u001b[0;32m      7\u001b[0m \u001b[38;5;28mprint\u001b[39m(su)\n",
      "\u001b[1;31mTypeError\u001b[0m: 'int' object is not callable"
     ]
    }
   ],
   "source": [
    "import random\n",
    "s=[]\n",
    "for i in range(100):\n",
    "    s.append(random.randint(1,100))\n",
    "su=sum(s)\n",
    "print(s,end=\"\")\n",
    "print(su)\n",
    "avg=\n",
    "    "
   ]
  },
  {
   "cell_type": "code",
   "execution_count": 6,
   "id": "09c9e42c-4f0a-4dae-86e0-21cc3b732f5c",
   "metadata": {},
   "outputs": [
    {
     "name": "stdout",
     "output_type": "stream",
     "text": [
      "37 65 47 84 84 17 9 39 19 14 1 21 29 82 26 18 57 57 77 95 91 23 49 52 57 33 65 62 34 4 82 100 11 42 75 99 72 90 13 39 98 83 97 41 39 31 82 51 66 39 89 83 36 34 9 9 67 38 14 43 30 51 84 44 36 52 94 9 88 85 33 23 97 4 8 29 57 30 85 91 37 75 38 41 42 94 24 92 95 99 76 61 30 77 11 62 32 72 47 27 \n",
      "the sum & avg is 5182 51.82\n"
     ]
    }
   ],
   "source": [
    "#q1\n",
    "import random\n",
    "\n",
    "def sumavg(a):\n",
    "    s=sum(a)\n",
    "    av=s/len(a)\n",
    "    print(\"\\nthe sum & avg is\",s,av)\n",
    "    \n",
    "a = [random.randint(1,100) for i in range(100)]\n",
    "for i in a:\n",
    "    print(i,end=\" \")\n",
    "sumavg(a)\n",
    "\n",
    "\n",
    "\n",
    "    \n",
    "     "
   ]
  },
  {
   "cell_type": "code",
   "execution_count": 4,
   "id": "8f36a2ff-a6c3-4280-8b79-f117d3608563",
   "metadata": {},
   "outputs": [
    {
     "name": "stdout",
     "output_type": "stream",
     "text": [
      "1984 Doug 22\n",
      "22 1984 Doug\n",
      "Doug 22 1984\n"
     ]
    }
   ],
   "source": [
    "#q2\n",
    "def rotate(arg1, arg2, arg3):\n",
    "    return (arg3, arg1, arg2)\n",
    "\n",
    "a, b, c = 'Doug', 22, 1984\n",
    "\n",
    "# Call the function three times and unpack the result into a, b, and c each time\n",
    "for _ in range(3):\n",
    "    a, b, c = rotate(a, b, c)\n",
    "    print(a, b, c)\n"
   ]
  },
  {
   "cell_type": "code",
   "execution_count": 21,
   "id": "1a8621d1-8ce5-458a-b7e0-81ed6937a62e",
   "metadata": {},
   "outputs": [
    {
     "name": "stdout",
     "output_type": "stream",
     "text": [
      "a--> enter the elements\n",
      "b->display\n",
      "c->insert at specific position\n",
      "d->delete at specific position\n"
     ]
    },
    {
     "name": "stdin",
     "output_type": "stream",
     "text": [
      "enter a,b ,c or d:  a\n",
      "enter element 334\n",
      "enter a,b ,c or d:  b\n"
     ]
    },
    {
     "name": "stdout",
     "output_type": "stream",
     "text": [
      "[334]\n"
     ]
    },
    {
     "name": "stdin",
     "output_type": "stream",
     "text": [
      "enter a,b ,c or d:  c\n",
      "enter the element: 67\n",
      "enter the position 1\n",
      "enter a,b ,c or d:  b\n"
     ]
    },
    {
     "name": "stdout",
     "output_type": "stream",
     "text": [
      "[334, 67]\n"
     ]
    },
    {
     "name": "stdin",
     "output_type": "stream",
     "text": [
      "enter a,b ,c or d:  c\n",
      "enter the element: 1\n",
      "enter the position b\n"
     ]
    },
    {
     "ename": "ValueError",
     "evalue": "invalid literal for int() with base 10: 'b'",
     "output_type": "error",
     "traceback": [
      "\u001b[1;31m---------------------------------------------------------------------------\u001b[0m",
      "\u001b[1;31mValueError\u001b[0m                                Traceback (most recent call last)",
      "Cell \u001b[1;32mIn[21], line 30\u001b[0m\n\u001b[0;32m     28\u001b[0m     \u001b[38;5;28mprint\u001b[39m(l)\n\u001b[0;32m     29\u001b[0m \u001b[38;5;28;01melif\u001b[39;00m(choise\u001b[38;5;241m==\u001b[39m\u001b[38;5;124m'\u001b[39m\u001b[38;5;124mc\u001b[39m\u001b[38;5;124m'\u001b[39m):\n\u001b[1;32m---> 30\u001b[0m     insertelement(l)\n\u001b[0;32m     31\u001b[0m \u001b[38;5;28;01melif\u001b[39;00m(choise\u001b[38;5;241m==\u001b[39m\u001b[38;5;124m'\u001b[39m\u001b[38;5;124md\u001b[39m\u001b[38;5;124m'\u001b[39m):\n\u001b[0;32m     32\u001b[0m     delete(l)\n",
      "Cell \u001b[1;32mIn[21], line 8\u001b[0m, in \u001b[0;36minsertelement\u001b[1;34m(l)\u001b[0m\n\u001b[0;32m      6\u001b[0m \u001b[38;5;28;01mdef\u001b[39;00m \u001b[38;5;21minsertelement\u001b[39m(l):\n\u001b[0;32m      7\u001b[0m     a\u001b[38;5;241m=\u001b[39m\u001b[38;5;28mint\u001b[39m(\u001b[38;5;28minput\u001b[39m(\u001b[38;5;124m\"\u001b[39m\u001b[38;5;124menter the element:\u001b[39m\u001b[38;5;124m\"\u001b[39m))\n\u001b[1;32m----> 8\u001b[0m     b\u001b[38;5;241m=\u001b[39m\u001b[38;5;28mint\u001b[39m(\u001b[38;5;28minput\u001b[39m(\u001b[38;5;124m\"\u001b[39m\u001b[38;5;124menter the position\u001b[39m\u001b[38;5;124m\"\u001b[39m))\n\u001b[0;32m      9\u001b[0m     l\u001b[38;5;241m.\u001b[39minsert(b,a)\n",
      "\u001b[1;31mValueError\u001b[0m: invalid literal for int() with base 10: 'b'"
     ]
    }
   ],
   "source": [
    "#q3\n",
    "def createlist(l):\n",
    "    b=int(input(\"enter element\"))\n",
    "    l.append(b)\n",
    "    return l\n",
    "def insertelement(l):\n",
    "    a=int(input(\"enter the element:\"))\n",
    "    b=int(input(\"enter the position\"))\n",
    "    l.insert(b,a)\n",
    "def delete(l):\n",
    "    a=int(input(\"enter the position to be deleted\"))\n",
    "    l.pop(a)\n",
    "    \n",
    "\n",
    "\n",
    "\n",
    "\n",
    "print(\"a--> enter the elements\")\n",
    "print(\"b->display\")\n",
    "print(\"c->insert at specific position\")\n",
    "print(\"d->delete at specific position\")\n",
    "l=[]\n",
    "while True:\n",
    "    choise=input(\"enter a,b ,c or d: \")\n",
    "    if(choise=='a'):\n",
    "      l=createlist(l)\n",
    "    elif(choise=='b'):\n",
    "        print(l)\n",
    "    elif(choise=='c'):\n",
    "        insertelement(l)\n",
    "    elif(choise=='d'):\n",
    "        delete(l)\n",
    "    else:\n",
    "        print(\"exiting\")\n",
    "        break;\n",
    "        \n",
    "    \n",
    "    \n",
    "\n",
    "print(l)\n",
    "\n",
    "\n",
    "      "
   ]
  },
  {
   "cell_type": "code",
   "execution_count": 80,
   "id": "e1f7ae18-3c03-4cce-9995-0e5fa375620e",
   "metadata": {},
   "outputs": [
    {
     "name": "stdin",
     "output_type": "stream",
     "text": [
      "enter the element to remove all occurance of it: 77\n"
     ]
    },
    {
     "name": "stdout",
     "output_type": "stream",
     "text": [
      "[2, 1, 2, 3, 4, 4, 4, 5, 88, 5, 5]\n"
     ]
    }
   ],
   "source": [
    "#q4\n",
    "\n",
    "l=[2,1,2,3,4,4,4,5,88,77,5,5,77]\n",
    "s=[]\n",
    "a=int(input(\"enter the element to remove all occurance of it:\"))\n",
    "for i in l:\n",
    "    if a!=i :\n",
    "        s.append(i)\n",
    "print(s)\n",
    "    \n",
    "    "
   ]
  },
  {
   "cell_type": "code",
   "execution_count": 118,
   "id": "36703b94-0f88-4219-9ceb-14df4f4096fa",
   "metadata": {},
   "outputs": [
    {
     "name": "stdout",
     "output_type": "stream",
     "text": [
      "[1, 2, 3, 4, 2]\n"
     ]
    },
    {
     "data": {
      "text/plain": [
       "'i'"
      ]
     },
     "execution_count": 118,
     "metadata": {},
     "output_type": "execute_result"
    }
   ],
   "source": [
    "#basis\n",
    "\"\"\"\n",
    "a=(1,2,3,4) #as tuple are immutable so it cant be changed it will show error\n",
    "a.append(2) # but tuple can be added with tuple ex-(1,2)+(3,4)\n",
    "print(a)\n",
    "\"\"\"\n",
    "a=[1,2,3,4] #as list are mutable so it will not show error\n",
    "a.append(2)\n",
    "print(a)\n",
    "\n",
    "s=\"siva\"  # strings are immutable they cant be changed\n",
    "s[1]\n"
   ]
  },
  {
   "cell_type": "code",
   "execution_count": 168,
   "id": "01bcecb9-c964-4b44-8603-a0c0aee5b3d6",
   "metadata": {},
   "outputs": [
    {
     "name": "stdout",
     "output_type": "stream",
     "text": [
      "(1, 2, 3, 8, 9)\n",
      "[1, 2, 3, 8, 9, 'siva']\n",
      "('s', 'i', 'v', 'k')\n"
     ]
    },
    {
     "ename": "TypeError",
     "evalue": "can only concatenate list (not \"str\") to list",
     "output_type": "error",
     "traceback": [
      "\u001b[1;31m---------------------------------------------------------------------------\u001b[0m",
      "\u001b[1;31mTypeError\u001b[0m                                 Traceback (most recent call last)",
      "Cell \u001b[1;32mIn[168], line 9\u001b[0m\n\u001b[0;32m      7\u001b[0m e\u001b[38;5;241m=\u001b[39m(\u001b[38;5;124m'\u001b[39m\u001b[38;5;124ms\u001b[39m\u001b[38;5;124m'\u001b[39m,\u001b[38;5;124m'\u001b[39m\u001b[38;5;124mi\u001b[39m\u001b[38;5;124m'\u001b[39m)\u001b[38;5;241m+\u001b[39m(\u001b[38;5;124m'\u001b[39m\u001b[38;5;124mv\u001b[39m\u001b[38;5;124m'\u001b[39m,\u001b[38;5;124m'\u001b[39m\u001b[38;5;124mk\u001b[39m\u001b[38;5;124m'\u001b[39m)\n\u001b[0;32m      8\u001b[0m \u001b[38;5;28mprint\u001b[39m(e)\n\u001b[1;32m----> 9\u001b[0m f\u001b[38;5;241m=\u001b[39m[\u001b[38;5;124m'\u001b[39m\u001b[38;5;124ms\u001b[39m\u001b[38;5;124m'\u001b[39m,\u001b[38;5;124m'\u001b[39m\u001b[38;5;124mi\u001b[39m\u001b[38;5;124m'\u001b[39m]\u001b[38;5;241m+\u001b[39m\u001b[38;5;124m'\u001b[39m\u001b[38;5;124mv\u001b[39m\u001b[38;5;124m'\u001b[39m\n\u001b[0;32m     10\u001b[0m \u001b[38;5;28mprint\u001b[39m(f)\n",
      "\u001b[1;31mTypeError\u001b[0m: can only concatenate list (not \"str\") to list"
     ]
    }
   ],
   "source": [
    "#basis\n",
    "\n",
    "a=(1,2,3)+(8,9)# +(\"siva\") it is not allowed to add string to int\n",
    "print(a)\n",
    "d=[1,2,3]+[8,9]+[\"siva\"]\n",
    "print(d)\n",
    "e=('s','i')+('v','k')\n",
    "print(e)\n",
    "f=['s','i']+['v']\n",
    "print(f)\n",
    "\n"
   ]
  },
  {
   "cell_type": "code",
   "execution_count": 172,
   "id": "2ba6eb2b-5806-47de-837f-0bf53e5718e6",
   "metadata": {},
   "outputs": [
    {
     "ename": "NameError",
     "evalue": "name 'x' is not defined",
     "output_type": "error",
     "traceback": [
      "\u001b[1;31m---------------------------------------------------------------------------\u001b[0m",
      "\u001b[1;31mNameError\u001b[0m                                 Traceback (most recent call last)",
      "Cell \u001b[1;32mIn[172], line 4\u001b[0m\n\u001b[0;32m      2\u001b[0m x\u001b[38;5;241m=\u001b[39m\u001b[38;5;241m7\u001b[39m\n\u001b[0;32m      3\u001b[0m \u001b[38;5;28;01mdel\u001b[39;00m x\n\u001b[1;32m----> 4\u001b[0m \u001b[38;5;28mprint\u001b[39m(x)\n",
      "\u001b[1;31mNameError\u001b[0m: name 'x' is not defined"
     ]
    }
   ],
   "source": [
    "#h)\n",
    "x=7\n",
    "del x\n",
    "print(x)\n"
   ]
  },
  {
   "cell_type": "code",
   "execution_count": 174,
   "id": "c8da3181-3f1b-4eac-8665-66771957999f",
   "metadata": {},
   "outputs": [
    {
     "ename": "ValueError",
     "evalue": "10 is not in list",
     "output_type": "error",
     "traceback": [
      "\u001b[1;31m---------------------------------------------------------------------------\u001b[0m",
      "\u001b[1;31mValueError\u001b[0m                                Traceback (most recent call last)",
      "Cell \u001b[1;32mIn[174], line 2\u001b[0m\n\u001b[0;32m      1\u001b[0m numbers \u001b[38;5;241m=\u001b[39m [\u001b[38;5;241m1\u001b[39m, \u001b[38;5;241m2\u001b[39m, \u001b[38;5;241m3\u001b[39m, \u001b[38;5;241m4\u001b[39m, \u001b[38;5;241m5\u001b[39m]\n\u001b[1;32m----> 2\u001b[0m numbers\u001b[38;5;241m.\u001b[39mindex(\u001b[38;5;241m10\u001b[39m)\n",
      "\u001b[1;31mValueError\u001b[0m: 10 is not in list"
     ]
    }
   ],
   "source": [
    "# i)\n",
    "numbers = [1, 2, 3, 4, 5]\n",
    " numbers.index(10)"
   ]
  },
  {
   "cell_type": "code",
   "execution_count": 230,
   "id": "f8fc9673-8457-4a54-b55b-2974b11af24d",
   "metadata": {},
   "outputs": [
    {
     "name": "stdout",
     "output_type": "stream",
     "text": [
      "[1, 2, 3, 4, 5, 6, 7, 8]\n",
      "[1, 2, 3, 4, 5, 6, [8, 9, 7, 9]]\n"
     ]
    }
   ],
   "source": [
    " n = [1, 2, 3, 4, 5]\n",
    " n.extend([6,7,8])\n",
    "print(n)                 #difference btw append & extend\n",
    "d=[1, 2, 3, 4, 5]\n",
    "d.append(6)\n",
    "d.append([8,9,7,9])\n",
    "print(d)\n"
   ]
  },
  {
   "cell_type": "code",
   "execution_count": 252,
   "id": "cbb96def-7e7a-4eac-8083-048a57cb988c",
   "metadata": {},
   "outputs": [
    {
     "name": "stdin",
     "output_type": "stream",
     "text": [
      "enter the number to be searched in the list 2\n"
     ]
    },
    {
     "name": "stdout",
     "output_type": "stream",
     "text": [
      "yes it is present\n",
      "4\n"
     ]
    }
   ],
   "source": [
    "#6)\n",
    "a=[1,2,3,4,5,6,2,2,2]\n",
    "n=int(input(\"enter the number to be searched in the list\"))\n",
    "sum=0\n",
    "if n in a:\n",
    "    print(\"yes it is present\")\n",
    "    for i in range(len(a)):\n",
    "        if n==a[i]:\n",
    "            sum=sum+1\n",
    "        \n",
    "        \n",
    "    print(sum)\n",
    "else:\n",
    "    print(\"not there in the list\")\n"
   ]
  },
  {
   "cell_type": "code",
   "execution_count": 262,
   "id": "f5d6d7c8-fc02-43e5-81d7-b4ead99d14d9",
   "metadata": {},
   "outputs": [
    {
     "name": "stdout",
     "output_type": "stream",
     "text": [
      "[1, 4, 9, 15]\n"
     ]
    }
   ],
   "source": [
    "#q7)\n",
    "\n",
    "a=[1,3,5,6]\n",
    "b=[]\n",
    "sum=0\n",
    "for i in range(len(a)):\n",
    "    sum=sum+a[i]\n",
    "    b.append(sum)\n",
    "print(b)"
   ]
  },
  {
   "cell_type": "code",
   "execution_count": 284,
   "id": "4bcaa66c-7128-44dc-bd25-f22fda016ad0",
   "metadata": {},
   "outputs": [
    {
     "name": "stdin",
     "output_type": "stream",
     "text": [
      "enter the no:  9\n"
     ]
    },
    {
     "name": "stdout",
     "output_type": "stream",
     "text": [
      "multiples of 1 are : 1 2 3 4 5 \n",
      "multiples of 2 are : 2 4 6 8 10 \n",
      "multiples of 3 are : 3 6 9 12 15 \n",
      "multiples of 4 are : 4 8 12 16 20 \n",
      "multiples of 5 are : 5 10 15 20 25 \n",
      "multiples of 6 are : 6 12 18 24 30 \n",
      "multiples of 7 are : 7 14 21 28 35 \n",
      "multiples of 8 are : 8 16 24 32 40 \n",
      "multiples of 9 are : 9 18 27 36 45 \n"
     ]
    }
   ],
   "source": [
    "n=int(input(\"enter the no: \"))\n",
    "for i in range(1,n+1):\n",
    "      print(\"multiples of\",i,\"are :\",end=\" \" )\n",
    "      for j in range(1,6):\n",
    "          print(i*j, end=\" \" )\n",
    "      print()\n"
   ]
  },
  {
   "cell_type": "code",
   "execution_count": 316,
   "id": "af56026b-d503-4eed-b131-877080746ee1",
   "metadata": {},
   "outputs": [
    {
     "name": "stdout",
     "output_type": "stream",
     "text": [
      "[1, 2, 3, 1, 2, 3]\n",
      "1\n",
      "3\n"
     ]
    }
   ],
   "source": [
    " address='B-6,Lodhiroad,Delhi'\n",
    " list1=[1,2,3]\n",
    " list2=['a',1,'z',26,'d',4]\n",
    " tuple1=('a','e','i','o','u')\n",
    " tuple2=([2,4,6,8],[3,6,9],[4,8],5)\n",
    " print(list1*2)\n",
    " print(min(list1))\n",
    " print(max(list1))\n",
    "  \n"
   ]
  },
  {
   "cell_type": "code",
   "execution_count": 320,
   "id": "f1f96e21-f140-48ef-9b5e-0e23d22b7fcf",
   "metadata": {},
   "outputs": [
    {
     "data": {
      "text/plain": [
       "1"
      ]
     },
     "execution_count": 320,
     "metadata": {},
     "output_type": "execute_result"
    }
   ],
   "source": [
    "s = ((1, 2, 'a'), (3, 4, 'b'), (5, 6, 7))\n",
    "s[0][0]"
   ]
  },
  {
   "cell_type": "code",
   "execution_count": 361,
   "id": "3da0dc13-4781-43fc-b0de-f24d108e0f1e",
   "metadata": {},
   "outputs": [
    {
     "name": "stdout",
     "output_type": "stream",
     "text": [
      "28\n"
     ]
    }
   ],
   "source": [
    "#q10)\n",
    "def tot(x):\n",
    "    sum=0\n",
    "    for i in x:\n",
    "        for j in i:\n",
    "           if isinstance(j,(int,float)):\n",
    "             sum=sum+j\n",
    "    print(sum)\n",
    "\n",
    "x=((1, 2, 'a'), (3, 4, 'b'), (5, 6, 7))\n",
    "tot(x)\n",
    " "
   ]
  },
  {
   "cell_type": "code",
   "execution_count": 414,
   "id": "5213c40d-a5b1-4004-bda5-c1a6a3b856e4",
   "metadata": {},
   "outputs": [
    {
     "name": "stdin",
     "output_type": "stream",
     "text": [
      "enter the number of rows 3\n",
      "enter the number of columns 3\n",
      "enter the row element 1 44 3\n",
      "enter the row element 2\n",
      "enter the row element 4 6 77\n"
     ]
    },
    {
     "name": "stdout",
     "output_type": "stream",
     "text": [
      "[[1, 44, 3], [2], [4, 6, 77]]\n",
      "   1   44    3 \n",
      "   2 \n",
      "   4    6   77 \n"
     ]
    }
   ],
   "source": [
    "\n",
    "#q11)\n",
    "r=int(input(\"enter the number of rows\"))\n",
    "c=int(input(\"enter the number of columns\"))\n",
    "\n",
    "\n",
    "co=[]\n",
    "\n",
    "for i in range(r):\n",
    "    ro=[]\n",
    "    s=input(\"enter the row element\").split()\n",
    "    for j in s:\n",
    "       ro.append(int(j))\n",
    "    co.append(ro)\n",
    "print(co)\n",
    "\n",
    "for i in co:\n",
    "    for j in i:\n",
    "        print(\"%4d\"% j , end=\" \")\n",
    "    print()\n",
    "\n",
    "\n",
    " \n"
   ]
  },
  {
   "cell_type": "code",
   "execution_count": 418,
   "id": "0557b2db-fbb4-411f-892f-188b211dc2ed",
   "metadata": {},
   "outputs": [
    {
     "name": "stdout",
     "output_type": "stream",
     "text": [
      "Enter a 3-by-4 matrix row by row:\n"
     ]
    },
    {
     "name": "stdin",
     "output_type": "stream",
     "text": [
      " 2 2\n",
      " 22 22\n",
      " 3 3\n"
     ]
    },
    {
     "name": "stdout",
     "output_type": "stream",
     "text": [
      "\n",
      "Matrix:\n",
      "[2.0, 2.0]\n",
      "[22.0, 22.0]\n",
      "[3.0, 3.0]\n",
      "\n",
      "Sum of each column:\n",
      "Sum of column 0: 27.0\n",
      "Sum of column 1: 27.0\n"
     ]
    },
    {
     "ename": "IndexError",
     "evalue": "list index out of range",
     "output_type": "error",
     "traceback": [
      "\u001b[1;31m---------------------------------------------------------------------------\u001b[0m",
      "\u001b[1;31mIndexError\u001b[0m                                Traceback (most recent call last)",
      "Cell \u001b[1;32mIn[418], line 25\u001b[0m\n\u001b[0;32m     23\u001b[0m \u001b[38;5;28mprint\u001b[39m(\u001b[38;5;124m\"\u001b[39m\u001b[38;5;130;01m\\n\u001b[39;00m\u001b[38;5;124mSum of each column:\u001b[39m\u001b[38;5;124m\"\u001b[39m)\n\u001b[0;32m     24\u001b[0m \u001b[38;5;28;01mfor\u001b[39;00m col \u001b[38;5;129;01min\u001b[39;00m \u001b[38;5;28mrange\u001b[39m(columns):\n\u001b[1;32m---> 25\u001b[0m     \u001b[38;5;28mprint\u001b[39m(\u001b[38;5;124mf\u001b[39m\u001b[38;5;124m\"\u001b[39m\u001b[38;5;124mSum of column \u001b[39m\u001b[38;5;132;01m{\u001b[39;00mcol\u001b[38;5;132;01m}\u001b[39;00m\u001b[38;5;124m: \u001b[39m\u001b[38;5;132;01m{\u001b[39;00mcolumn_sum(matrix,\u001b[38;5;250m \u001b[39mcol)\u001b[38;5;132;01m}\u001b[39;00m\u001b[38;5;124m\"\u001b[39m)\n",
      "Cell \u001b[1;32mIn[418], line 5\u001b[0m, in \u001b[0;36mcolumn_sum\u001b[1;34m(matrix, col_index)\u001b[0m\n\u001b[0;32m      3\u001b[0m total \u001b[38;5;241m=\u001b[39m \u001b[38;5;241m0\u001b[39m\n\u001b[0;32m      4\u001b[0m \u001b[38;5;28;01mfor\u001b[39;00m row \u001b[38;5;129;01min\u001b[39;00m matrix:\n\u001b[1;32m----> 5\u001b[0m     total \u001b[38;5;241m+\u001b[39m\u001b[38;5;241m=\u001b[39m row[col_index]\n\u001b[0;32m      6\u001b[0m \u001b[38;5;28;01mreturn\u001b[39;00m total\n",
      "\u001b[1;31mIndexError\u001b[0m: list index out of range"
     ]
    }
   ],
   "source": [
    "#q12)\n",
    "def column_sum(matrix, col_index):\n",
    "    total = 0\n",
    "    for row in matrix:\n",
    "        total += row[col_index]\n",
    "    return total\n",
    "\n",
    "# Main program\n",
    "rows, columns = 3, 4\n",
    "matrix = []\n",
    "\n",
    "print(\"Enter a 3-by-4 matrix row by row:\")\n",
    "\n",
    "for _ in range(rows):\n",
    "    row = input().split()\n",
    "    row = [float(num) for num in row]  # Convert each element to float\n",
    "    matrix.append(row)\n",
    "\n",
    "print(\"\\nMatrix:\")\n",
    "for row in matrix:\n",
    "    print(row)\n",
    "\n",
    "print(\"\\nSum of each column:\")\n",
    "for col in range(columns):\n",
    "    print(f\"Sum of column {col}: {column_sum(matrix, col)}\")\n",
    "\n"
   ]
  },
  {
   "cell_type": "code",
   "execution_count": 420,
   "id": "5a825ae0-c2d5-4b24-b6a2-45dbafc74948",
   "metadata": {},
   "outputs": [
    {
     "name": "stdout",
     "output_type": "stream",
     "text": [
      "[(2, 1), (3, 2), (1, 3), (4, 4)]\n"
     ]
    }
   ],
   "source": [
    "#q13)\n",
    "tuples_list = [(1, 3), (3, 2), (2, 1), (4, 4)]\n",
    "sorted_tuples = sorted(tuples_list, key=lambda x: x[1])\n",
    "print(sorted_tuples)  # Output: [(2, 1), (3, 2), (1, 3), (4, 4)]\n"
   ]
  },
  {
   "cell_type": "code",
   "execution_count": 469,
   "id": "d7a9a0a1-d56e-4e0a-8c2b-dbb21a50edec",
   "metadata": {},
   "outputs": [
    {
     "name": "stdout",
     "output_type": "stream",
     "text": [
      "[0, 1, 4, 9, 16, 25, 36, 49, 64, 81, 100]\n",
      "[0, 2, 4, 6, 8, 10]\n",
      "[0.0, 1.0, 2.0, 3.0, 4.0, 5.0]\n"
     ]
    }
   ],
   "source": [
    "#q14)\n",
    "su=[i**2 for i in range(11) ]\n",
    "print(su)\n",
    "\n",
    "\n",
    "su = [i for i in range(11) if i%2==0] \n",
    "print(su)\n",
    "su = [i/2 for i in range(11) if i%2==0] \n",
    "print(su)\n"
   ]
  },
  {
   "cell_type": "code",
   "execution_count": 440,
   "id": "0d5cb384-0e29-4057-90d9-b759b6fcca7a",
   "metadata": {},
   "outputs": [
    {
     "name": "stdout",
     "output_type": "stream",
     "text": [
      "[0, 1, 4, 9, 16, 25, 36, 49, 64, 81, 100]\n"
     ]
    }
   ],
   "source": [
    "s=[]\n",
    "for i in range(11):\n",
    "    i=i**2\n",
    "    s.append(i)\n",
    "print(s)\n",
    "    \n"
   ]
  },
  {
   "cell_type": "code",
   "execution_count": 477,
   "id": "eea74566-4845-4365-885e-e71421e43044",
   "metadata": {},
   "outputs": [
    {
     "name": "stdin",
     "output_type": "stream",
     "text": [
      " 2 2 12 2\n",
      " 3 3 3 3\n",
      " 2 2 2 2\n",
      " 3 4 5 5\n"
     ]
    },
    {
     "name": "stdout",
     "output_type": "stream",
     "text": [
      "[[2, 2, 12, 2], [3, 3, 3, 3], [2, 2, 2, 2], [3, 4, 5, 5]]\n"
     ]
    }
   ],
   "source": [
    "matrix=[]\n",
    "for i in range(4):\n",
    "    row=input().split()\n",
    "    row=[int(i) for i in row]\n",
    "    matrix.append(row)\n",
    "print(matrix)"
   ]
  },
  {
   "cell_type": "code",
   "execution_count": 486,
   "id": "f066bca4-389f-487d-b642-9c8f5a8c4e4a",
   "metadata": {},
   "outputs": [
    {
     "name": "stdout",
     "output_type": "stream",
     "text": [
      "Enter ten numbers:\n"
     ]
    },
    {
     "name": "stdin",
     "output_type": "stream",
     "text": [
      " 2\n",
      " 2\n",
      " 2\n",
      " 2\n",
      " 2\n",
      " 2\n",
      " 2\n",
      " 2\n",
      " 2\n",
      " 2\n"
     ]
    },
    {
     "ename": "TypeError",
     "evalue": "'int' object is not callable",
     "output_type": "error",
     "traceback": [
      "\u001b[1;31m---------------------------------------------------------------------------\u001b[0m",
      "\u001b[1;31mTypeError\u001b[0m                                 Traceback (most recent call last)",
      "Cell \u001b[1;32mIn[486], line 19\u001b[0m\n\u001b[0;32m     16\u001b[0m     numbers\u001b[38;5;241m.\u001b[39mappend(number)\n\u001b[0;32m     18\u001b[0m \u001b[38;5;66;03m# Calculate mean\u001b[39;00m\n\u001b[1;32m---> 19\u001b[0m mean \u001b[38;5;241m=\u001b[39m calculate_mean(numbers)\n\u001b[0;32m     21\u001b[0m \u001b[38;5;66;03m# Calculate standard deviation\u001b[39;00m\n\u001b[0;32m     22\u001b[0m std_deviation \u001b[38;5;241m=\u001b[39m calculate_std_deviation(numbers, mean)\n",
      "Cell \u001b[1;32mIn[486], line 5\u001b[0m, in \u001b[0;36mcalculate_mean\u001b[1;34m(numbers)\u001b[0m\n\u001b[0;32m      4\u001b[0m \u001b[38;5;28;01mdef\u001b[39;00m \u001b[38;5;21mcalculate_mean\u001b[39m(numbers):\n\u001b[1;32m----> 5\u001b[0m     \u001b[38;5;28;01mreturn\u001b[39;00m \u001b[38;5;28msum\u001b[39m(numbers) \u001b[38;5;241m/\u001b[39m \u001b[38;5;28mlen\u001b[39m(numbers)\n",
      "\u001b[1;31mTypeError\u001b[0m: 'int' object is not callable"
     ]
    }
   ],
   "source": [
    "#Q17) correct code\n",
    "import math\n",
    "\n",
    "def calculate_mean(numbers):\n",
    "    return sum(numbers) / len(numbers)\n",
    "\n",
    "def calculate_std_deviation(numbers, mean):\n",
    "    variance = sum((x - mean) ** 2 for x in numbers) / (len(numbers) - 1)\n",
    "    return math.sqrt(variance)\n",
    "\n",
    "# Prompt the user to enter ten numbers\n",
    "numbers = []\n",
    "print(\"Enter ten numbers:\")\n",
    "for _ in range(10):\n",
    "    number = float(input())\n",
    "    numbers.append(number)\n",
    "\n",
    "# Calculate mean\n",
    "mean = calculate_mean(numbers)\n",
    "\n",
    "# Calculate standard deviation\n",
    "std_deviation = calculate_std_deviation(numbers, mean)\n",
    "\n",
    "# Display results\n",
    "print(f\"The mean is {mean:.2f}\")\n",
    "print(f\"The standard deviation is {std_deviation:.5f}\")\n"
   ]
  },
  {
   "cell_type": "code",
   "execution_count": 488,
   "id": "39b44826-389c-43a8-9234-eff81d54bfa4",
   "metadata": {},
   "outputs": [
    {
     "name": "stdout",
     "output_type": "stream",
     "text": [
      "[1, 4, 9, 16, 25]\n"
     ]
    }
   ],
   "source": [
    "#q18)\n",
    "# Original list\n",
    "original_list = [1, 2, 3, 4, 5]\n",
    "\n",
    "# New list with squares of every element\n",
    "squared_list = [x**2 for x in original_list]\n",
    "\n",
    "# Print the new list\n",
    "print(squared_list)\n"
   ]
  },
  {
   "cell_type": "code",
   "execution_count": 542,
   "id": "15e03968-8b23-40f3-ad7c-4c92bb7571c6",
   "metadata": {},
   "outputs": [
    {
     "name": "stdout",
     "output_type": "stream",
     "text": [
      "[[1 1 1]\n",
      " [1 1 1]]\n",
      "[[0. 0. 0.]\n",
      " [0. 0. 0.]\n",
      " [0. 0. 0.]]\n",
      "[[7 7 7 7 7]\n",
      " [7 7 7 7 7]]\n"
     ]
    }
   ],
   "source": [
    "#q1)\n",
    "import numpy as np\n",
    "a=np.array([[1,1,1],[1,1,1]])\n",
    "print(a)\n",
    "b=np.zeros((3,3))\n",
    "print(b)\n",
    "c=np.full((2,5),7)\n",
    "print(c)\n",
    "\n",
    "\n",
    "\n",
    "\n",
    "\n"
   ]
  },
  {
   "cell_type": "code",
   "execution_count": 558,
   "id": "7a9608c3-4e5f-41a8-8300-ca273b8a8bc6",
   "metadata": {},
   "outputs": [
    {
     "name": "stdout",
     "output_type": "stream",
     "text": [
      "original aarray: [[1 2 3]\n",
      " [4 5 6]]\n",
      "cube is: [[  1   8  27]\n",
      " [ 64 125 216]]\n",
      "sum of 7 is: [[ 8  9 10]\n",
      " [11 12 13]]\n",
      "mul of 2 is: [[ 2  4  6]\n",
      " [ 8 10 12]]\n"
     ]
    }
   ],
   "source": [
    "#q2)\n",
    "import numpy as np\n",
    "a=np.array([[1,2,3],[4,5,6]])\n",
    "print(\"original aarray:\",a)\n",
    "cube=np.power(a,3)\n",
    "print(\"cube is:\",cube)\n",
    "sum=a+7\n",
    "print(\"sum of 7 is:\",sum)\n",
    "mul=a*2\n",
    "print(\"mul of 2 is:\",mul)\n"
   ]
  },
  {
   "cell_type": "code",
   "execution_count": 596,
   "id": "4bcd3814-1364-4222-b3c0-c291a2301d61",
   "metadata": {},
   "outputs": [
    {
     "name": "stdout",
     "output_type": "stream",
     "text": [
      "[[ 2  4  6]\n",
      " [ 8 10 12]\n",
      " [14 16 18]]\n",
      "[[9 8 7]\n",
      " [6 5 4]\n",
      " [3 2 1]]\n",
      "[[18 32 42]\n",
      " [48 50 48]\n",
      " [42 32 18]]\n"
     ]
    }
   ],
   "source": [
    "#q3)\n",
    "import numpy as np\n",
    "x=np.arange(2,19,2)\n",
    "y=x.reshape(3,3)\n",
    "print(y)\n",
    "a=np.arange(9,0,-1)\n",
    "b=a.reshape(3,3)\n",
    "print(b)\n",
    "mul=np.multiply(y,b)\n",
    "print(mul)\n",
    "\n",
    "\n"
   ]
  },
  {
   "cell_type": "code",
   "execution_count": 598,
   "id": "529c9442-9029-40c4-a2e6-0e6f779c509a",
   "metadata": {},
   "outputs": [
    {
     "name": "stdout",
     "output_type": "stream",
     "text": [
      "Original array:\n",
      "[[1 2]\n",
      " [3 4]]\n",
      "\n",
      "Array after swapping rows:\n",
      "[[3 4]\n",
      " [1 2]]\n",
      "\n",
      "Array after swapping columns:\n",
      "[[4 3]\n",
      " [2 1]]\n"
     ]
    }
   ],
   "source": [
    "#q4)\n",
    "\n",
    "import numpy as np\n",
    "\n",
    "# Create a 2x2 array\n",
    "array = np.array([[1, 2], [3, 4]])\n",
    "\n",
    "print(\"Original array:\")\n",
    "print(array)\n",
    "\n",
    "# Swap the first row (no change since there are only two rows, but let's do it for consistency)\n",
    "array[[0, 1]] = array[[1, 0]]\n",
    "\n",
    "print(\"\\nArray after swapping rows:\")\n",
    "print(array)\n",
    "\n",
    "# Swap the first two columns\n",
    "array[:, [0, 1]] = array[:, [1, 0]]\n",
    "\n",
    "print(\"\\nArray after swapping columns:\")\n",
    "print(array)\n",
    "\n"
   ]
  },
  {
   "cell_type": "code",
   "execution_count": 612,
   "id": "dba997f3-6db9-4070-a2e4-f73f8b224ad9",
   "metadata": {},
   "outputs": [
    {
     "data": {
      "text/plain": [
       "array([[ 2,  3,  5,  7, 11],\n",
       "       [13, 17, 19, 23, 29]])"
      ]
     },
     "execution_count": 612,
     "metadata": {},
     "output_type": "execute_result"
    }
   ],
   "source": [
    "#q5)\n",
    "import numpy as np\n",
    "\n",
    "l1=[2,3,5,7,11]\n",
    "l2=[13,17,19,23,29]\n",
    "array=np.array([l1,l2])\n",
    "array"
   ]
  },
  {
   "cell_type": "code",
   "execution_count": 628,
   "id": "c05210f4-5030-4076-9993-60507148052b",
   "metadata": {},
   "outputs": [
    {
     "name": "stdout",
     "output_type": "stream",
     "text": [
      "[[99  2  4]\n",
      " [ 8 16 32]]\n",
      "[ 1  2  4  8 16 32]\n",
      "[99  2  4  8 16 32]\n",
      "[[99  2  4]\n",
      " [ 8 16 32]]\n"
     ]
    }
   ],
   "source": [
    "#q6))\n",
    "import numpy as np\n",
    "a=np.array([[2**0,2**1,2**2],[2**3,2**4,2**5]])\n",
    "b=a.flatten()\n",
    "c=a.ravel()#in ravel if u modify some thing it will also grt modify in the orginal array ex- in a \n",
    "c[0]=99\n",
    "\n",
    "print(a)\n",
    "print(b)\n",
    "print(c)\n",
    "print(a)\n",
    "\n",
    "\n"
   ]
  },
  {
   "cell_type": "code",
   "execution_count": 632,
   "id": "468dc0c4-aa35-42fc-b827-16dd602739c4",
   "metadata": {},
   "outputs": [
    {
     "name": "stdout",
     "output_type": "stream",
     "text": [
      "Most frequent value: [(4, 4), (2, 2), (3, 2), (1, 1)]\n"
     ]
    }
   ],
   "source": [
    "#q7)\n",
    "import numpy as np\n",
    "from collections import Counter\n",
    "\n",
    "# Example array\n",
    "array = np.array([1, 2, 3, 4, 2, 4, 3, 4, 4])\n",
    "\n",
    "# Count the frequency of each element\n",
    "frequency = Counter(array)\n",
    "\n",
    "# Find the most frequent value\n",
    "most = frequency.most_common(1)[0][0]\n",
    "print(\"Most frequent value:\", most)\n"
   ]
  },
  {
   "cell_type": "code",
   "execution_count": 660,
   "id": "ab9fe153-572c-4194-a438-d7f853c1e78a",
   "metadata": {},
   "outputs": [
    {
     "name": "stdout",
     "output_type": "stream",
     "text": [
      "[1.1 2.2 3.3 4.4 5.5 6.6]\n",
      "[[1.1 2.2 3.3]\n",
      " [4.4 5.5 6.6]]\n",
      "[[1 2 3]\n",
      " [4 5 6]]\n"
     ]
    }
   ],
   "source": [
    "#Q8)\n",
    "import numpy as np\n",
    "a=np.linspace(1.1,6.6,6)\n",
    "b=a.reshape(2,3)\n",
    "c=b.astype(int)\n",
    "print(a)\n",
    "print(b)\n",
    "print(c)"
   ]
  },
  {
   "cell_type": "code",
   "execution_count": null,
   "id": "fe9b5cd6-245e-48c1-ab00-29b8d937a495",
   "metadata": {},
   "outputs": [],
   "source": []
  }
 ],
 "metadata": {
  "kernelspec": {
   "display_name": "Python 3 (ipykernel)",
   "language": "python",
   "name": "python3"
  },
  "language_info": {
   "codemirror_mode": {
    "name": "ipython",
    "version": 3
   },
   "file_extension": ".py",
   "mimetype": "text/x-python",
   "name": "python",
   "nbconvert_exporter": "python",
   "pygments_lexer": "ipython3",
   "version": "3.12.4"
  }
 },
 "nbformat": 4,
 "nbformat_minor": 5
}
