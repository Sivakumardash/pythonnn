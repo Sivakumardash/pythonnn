{
 "cells": [
  {
   "cell_type": "code",
   "execution_count": 7,
   "id": "34fa0869-80a6-4ef3-845a-c4c171524714",
   "metadata": {},
   "outputs": [
    {
     "name": "stdin",
     "output_type": "stream",
     "text": [
      "enter the number of the students: 2\n",
      "enter the name of student: s\n",
      "enter the marks of the student: 3\n",
      "enter the name of student: r\n",
      "enter the marks of the student: 4\n",
      "enter the name of whose mark you went to know r\n"
     ]
    },
    {
     "name": "stdout",
     "output_type": "stream",
     "text": [
      "r marks is: 4\n",
      "{'s': 3, 'r': 4}\n"
     ]
    }
   ],
   "source": [
    "#q1)\n",
    "d={}\n",
    "n=int(input(\"enter the number of the students:\"))\n",
    "for i in range(n):\n",
    "      s=input(\"enter the name of student:\")\n",
    "      m=int(input(\"enter the marks of the student:\"))\n",
    "      d[s]=m\n",
    "name=input(\"enter the name of whose mark you went to know\")\n",
    "for i in range(n):\n",
    "    if name in d:\n",
    "        print(name ,\"marks is:\",d[name])\n",
    "        break;\n",
    "        \n",
    "print(d)"
   ]
  },
  {
   "cell_type": "code",
   "execution_count": 19,
   "id": "3abb0297-da97-47ea-aafe-ad62cae1758e",
   "metadata": {},
   "outputs": [
    {
     "name": "stdin",
     "output_type": "stream",
     "text": [
      "enter the number of the students: 3\n",
      "enter the name of student: s\n",
      "enter the % of marks of the student: 3\n",
      "enter the name of student: d\n",
      "enter the % of marks of the student: 4\n",
      "enter the name of student: f\n",
      "enter the % of marks of the student: 5\n"
     ]
    },
    {
     "name": "stdout",
     "output_type": "stream",
     "text": [
      "dict_values([3, 4, 5])\n",
      "dict_keys(['s', 'd', 'f'])\n",
      "dict_values([3, 4, 5])\n",
      "{'s': 3, 'd': 4, 'f': 5}\n"
     ]
    }
   ],
   "source": [
    "#q2)\n",
    "\n",
    "d={}\n",
    "n=int(input(\"enter the number of the students:\"))\n",
    "for i in range(n):\n",
    "    s=input(\"enter the name of student:\")\n",
    "    m=int(input(\"enter the % of marks of the student:\"))\n",
    "    d[s]=m\n",
    "print(d.values())\n",
    "print(d.keys())\n",
    "print(d.values())\n",
    "print(d)\n",
    "\n"
   ]
  },
  {
   "cell_type": "code",
   "execution_count": 21,
   "id": "f07f1ba4-dd2e-40b6-8f0b-4cffc9c66178",
   "metadata": {},
   "outputs": [
    {
     "name": "stdin",
     "output_type": "stream",
     "text": [
      "enter the number : 3\n",
      "enter the key: a\n",
      "enter the values: 1\n",
      "enter the key: b\n",
      "enter the values: 5\n",
      "enter the key: c\n",
      "enter the values: 6\n"
     ]
    },
    {
     "data": {
      "text/plain": [
       "12"
      ]
     },
     "execution_count": 21,
     "metadata": {},
     "output_type": "execute_result"
    }
   ],
   "source": [
    "#q3)\n",
    "\n",
    "d={}\n",
    "n=int(input(\"enter the number :\"))\n",
    "for i in range(n):\n",
    "    s=input(\"enter the key:\")\n",
    "    m=int(input(\"enter the values:\"))\n",
    "    d[s]=m\n",
    "sum=sum(d.values())\n",
    "sum\n",
    "\n",
    "\n"
   ]
  },
  {
   "cell_type": "code",
   "execution_count": 36,
   "id": "b7046e4a-3cd2-441a-9279-5084544e70ea",
   "metadata": {},
   "outputs": [
    {
     "name": "stdout",
     "output_type": "stream",
     "text": [
      "dict_keys(['dog', 'cat', 'walrus'])\n",
      "dict_values(['chien', 'chat', 'mx'])\n"
     ]
    },
    {
     "data": {
      "text/plain": [
       "{'dog': 'chien', 'cat': 'chat', 'walrus': 'mx'}"
      ]
     },
     "execution_count": 36,
     "metadata": {},
     "output_type": "execute_result"
    }
   ],
   "source": [
    "#q4)\n",
    "e2f={\"dog\":\"chien\",\"cat\":\"chat\",\"walrus\":\"mx\"}\n",
    "print(e2f.keys())\n",
    "print(e2f.values())\n",
    "\n",
    "e2f\n",
    "\n",
    "\n",
    "\n",
    "\n"
   ]
  },
  {
   "cell_type": "code",
   "execution_count": 56,
   "id": "9873ff1c-0777-47d9-8fa0-333cf0976140",
   "metadata": {},
   "outputs": [
    {
     "name": "stdout",
     "output_type": "stream",
     "text": [
      "yes canada is there\n",
      "nop france is not there\n"
     ]
    }
   ],
   "source": [
    "#q5)\n",
    "\n",
    "tlds = {\"Canada\": \"ca\", \"United States\": \"us\", \"Mexico\": \"mx\"}\n",
    "\"\"\" for i in tlds:\n",
    "    if i==\"Canada\":\n",
    "        print(\"yes canada is there\")\n",
    "    if i==\"France\":\n",
    "        print(\"yes it is there\")\n",
    "    else:\n",
    "        print(\"france is not there\")\n",
    "        \"\"\"\n",
    "\n",
    "if \"Canada\" in tlds:\n",
    "     print(\"yes canada is there\")\n",
    "else :\n",
    "    print(\"nop it is not there\")\n",
    "if \"France\" in tlds:\n",
    "     print(\"yes france is there\")\n",
    "else :\n",
    "    print(\"nop france is not there\")\n",
    "    \n",
    "        \n",
    "\n"
   ]
  },
  {
   "cell_type": "code",
   "execution_count": 3,
   "id": "0f005750-695a-4f71-a8b2-d673db1605d1",
   "metadata": {},
   "outputs": [
    {
     "name": "stdout",
     "output_type": "stream",
     "text": [
      "The dictionary contains the key 'Canada'\n",
      "The dictionary does not contain the key 'France'\n",
      "\n",
      "Country\t\tTLD\n",
      "---------------------\n",
      "Canada\t\tca\n",
      "United States\t\tus\n",
      "Mexico\t\tmx\n",
      "\n",
      "After adding Sweden with incorrect TLD: {'Canada': 'ca', 'United States': 'us', 'Mexico': 'mx', 'Sweden': 'sw'}\n",
      "After updating Sweden to correct TLD: {'Canada': 'ca', 'United States': 'us', 'Mexico': 'mx', 'Sweden': 'se'}\n",
      "Reversed dictionary: {'ca': 'Canada', 'us': 'United States', 'mx': 'Mexico', 'se': 'Sweden'}\n"
     ]
    }
   ],
   "source": [
    "tlds = {'Canada': 'ca', 'United States': 'us', 'Mexico': 'mx'}\n",
    "\n",
    "# a) Check whether the dictionary contains the key 'Canada'\n",
    "if 'Canada' in tlds:\n",
    "    print(\"The dictionary contains the key 'Canada'\")\n",
    "else:\n",
    "    print(\"The dictionary does not contain the key 'Canada'\")\n",
    "\n",
    "# b) Check whether the dictionary contains the key 'France'\n",
    "if 'France' in tlds:\n",
    "    print(\"The dictionary contains the key 'France'\")\n",
    "else:\n",
    "    print(\"The dictionary does not contain the key 'France'\")\n",
    "\n",
    "# c) Iterate through the key-value pairs and display them in a two-column format\n",
    "print(\"\\nCountry\\t\\tTLD\")\n",
    "print(\"---------------------\")\n",
    "for country, tld in tlds.items():\n",
    "    print(f\"{country}\\t\\t{tld}\")\n",
    "\n",
    "# d) Add the key–value pair 'Sweden' and 'sw' (incorrect TLD)\n",
    "tlds['Sweden'] = 'sw'\n",
    "print(\"\\nAfter adding Sweden with incorrect TLD:\", tlds)\n",
    "\n",
    "# e) Update the value for the key 'Sweden' to 'se' (correct TLD)\n",
    "tlds['Sweden'] = 'se'\n",
    "print(\"After updating Sweden to correct TLD:\", tlds)\n",
    "\n",
    "# f) Use dictionary comprehension to reverse the keys and values\n",
    "reversed_tlds = {v: k for k, v in tlds.items()}\n",
    "print(\"Reversed dictionary:\", reversed_tlds)\n"
   ]
  },
  {
   "cell_type": "code",
   "execution_count": 54,
   "id": "a9996799-6677-4b41-af83-6be24dec6fa1",
   "metadata": {},
   "outputs": [
    {
     "name": "stdout",
     "output_type": "stream",
     "text": [
      "keys are:  ['I', 'II', 'III', 'V']\n",
      "dict_values([1, 2, 3, 5])\n",
      "items are: [('I', 1), ('II', 2), ('III', 3), ('V', 5)]\n",
      "['I', 'II', 'III', 'V']\n"
     ]
    }
   ],
   "source": [
    "#q6)\n",
    "romannumerals = {\"I\": 1, \"II\": 2, \"III\": 3, \"V\": 5}\n",
    "print(\"keys are: \",list(romannumerals.keys()))\n",
    "print(romannumerals.values())\n",
    "print(\"items are:\",list(romannumerals.items()))\n",
    "print(list(romannumerals))\n",
    "\n",
    "\n",
    "\n"
   ]
  },
  {
   "cell_type": "code",
   "execution_count": 32,
   "id": "3fdb80fa-148d-4cb3-85c7-d1b3bf889fa7",
   "metadata": {},
   "outputs": [
    {
     "name": "stdin",
     "output_type": "stream",
     "text": [
      "enter the number of student: 3\n",
      "enter the names of student: ee\n",
      "enter tye marks obtained: 33\n",
      "enter the names of student: ede\n",
      "enter tye marks obtained: 22\n",
      "enter the names of student:  fcd\n",
      "enter tye marks obtained: 55\n"
     ]
    },
    {
     "name": "stdout",
     "output_type": "stream",
     "text": [
      "{'ee': 33, 'ede': 22, ' fcd': 55}\n",
      "dict_values([33, 22, 55])\n",
      "dict_keys(['ee', 'ede', ' fcd'])\n"
     ]
    }
   ],
   "source": [
    "n=int(input(\"enter the number of student:\"))\n",
    "d={}\n",
    "\n",
    "for i in range(n):\n",
    "    name=input(\"enter the names of student:\")\n",
    "\n",
    "    marks=int(input(\"enter tye marks obtained:\"))\n",
    "    d[name]=marks\n",
    "\n",
    "print(d)\n",
    "print(d.values())\n",
    "print(d.key())\n",
    "    \n",
    "    \n",
    "\n",
    "\n",
    "\n"
   ]
  },
  {
   "cell_type": "code",
   "execution_count": 112,
   "id": "d143dfd8-7d07-4dfd-a3d3-5667b6e4289a",
   "metadata": {},
   "outputs": [
    {
     "name": "stdout",
     "output_type": "stream",
     "text": [
      "dict_keys(['animal', 'plants', 'others'])\n",
      "dict_values([{'cats': ['Henri', 'Grumpy', 'Lucy'], 'octopi': '', 'emus': ''}, '', ''])\n"
     ]
    }
   ],
   "source": [
    "#q8)\n",
    "\n",
    "life={\"animal\":{\n",
    "                \"cats\":['Henri', 'Grumpy', 'Lucy'],\n",
    "                \"octopi\":\"\",\n",
    "                \"emus\":\"\"\n",
    "               },\n",
    "      \"plants\": \"\",\n",
    "      \"others\":\"\"\n",
    "     }\n",
    "    \n",
    "print(life.keys())\n",
    "print(life.values())\n",
    "\n"
   ]
  },
  {
   "cell_type": "code",
   "execution_count": 116,
   "id": "8eecd2d3-a809-4b35-94cb-190d55b3da40",
   "metadata": {},
   "outputs": [
    {
     "name": "stdout",
     "output_type": "stream",
     "text": [
      "{'m': 1, 'i': 4, 's': 4, 'p': 2}\n"
     ]
    }
   ],
   "source": [
    "#q9)\n",
    "input_string = 'mississippi'\n",
    "lc={}\n",
    "count=0\n",
    "for i in input_string:\n",
    "    if i in lc:\n",
    "        lc[i]=lc[i]+1\n",
    "    else:\n",
    "        lc[i]=1\n",
    "print(lc)\n"
   ]
  },
  {
   "cell_type": "code",
   "execution_count": 130,
   "id": "e9405d2e-f516-424e-881e-844c7cd10699",
   "metadata": {},
   "outputs": [
    {
     "name": "stdout",
     "output_type": "stream",
     "text": [
      "{'i': 3, 'a': 3, 'u': 1, 'o': 1, 'e': 4}\n"
     ]
    }
   ],
   "source": [
    "#q10)\n",
    "s=\"siva kumar dash got 85 percentile in b.tech\"\n",
    "vl=\"AEIOUaeiou\"\n",
    "su=0\n",
    "d={}\n",
    "for i in s:\n",
    "    if i in vl:\n",
    "        if i in d:\n",
    "            d[i]=d[i]+1\n",
    "        else:\n",
    "            d[i]=1\n",
    "print(d)\n",
    "       \n",
    "    "
   ]
  },
  {
   "cell_type": "code",
   "execution_count": 44,
   "id": "2d6ad39b-aaff-4c3c-9a18-e1c49051c60d",
   "metadata": {},
   "outputs": [
    {
     "name": "stdout",
     "output_type": "stream",
     "text": [
      "s v  k m r d sh g t 85 p rc nt l   n b.t ch"
     ]
    }
   ],
   "source": [
    "s=\"siva kumar dash got 85 percentile in b.tech\"\n",
    "vl=\"AEIOUaeiou\"\n",
    "for i in s:\n",
    "    if i not in vl:\n",
    "        print(i,end=\"\")\n",
    "    else:\n",
    "        print(\" \",end=\"\")"
   ]
  },
  {
   "cell_type": "code",
   "execution_count": 166,
   "id": "1ea10d6e-180c-4fc9-917f-cd201b410bb1",
   "metadata": {},
   "outputs": [
    {
     "name": "stdin",
     "output_type": "stream",
     "text": [
      "enter the number 67\n"
     ]
    },
    {
     "name": "stdout",
     "output_type": "stream",
     "text": [
      "four seven "
     ]
    }
   ],
   "source": [
    "#q11)\n",
    "d={ 1:\"one\",2:\"two\",3:\"three\",6:\"four\",5:\"five\",7:\"seven\",8:\"eight\",9:\"nine\",10:\"ten\"}\n",
    "n=input(\"enter the number\")\n",
    "for i in n:\n",
    "    # print(int(d[i]) it is incorrect\n",
    "    no=int(i)\n",
    "    print(d[no], end=\" \")\n",
    "    \n",
    "    "
   ]
  },
  {
   "cell_type": "code",
   "execution_count": 64,
   "id": "cdccec5b-c165-4237-a410-458eb432ccea",
   "metadata": {},
   "outputs": [
    {
     "data": {
      "text/html": [
       "<div>\n",
       "<style scoped>\n",
       "    .dataframe tbody tr th:only-of-type {\n",
       "        vertical-align: middle;\n",
       "    }\n",
       "\n",
       "    .dataframe tbody tr th {\n",
       "        vertical-align: top;\n",
       "    }\n",
       "\n",
       "    .dataframe thead th {\n",
       "        text-align: right;\n",
       "    }\n",
       "</style>\n",
       "<table border=\"1\" class=\"dataframe\">\n",
       "  <thead>\n",
       "    <tr style=\"text-align: right;\">\n",
       "      <th></th>\n",
       "      <th>c1</th>\n",
       "      <th>c2</th>\n",
       "      <th>c3</th>\n",
       "    </tr>\n",
       "  </thead>\n",
       "  <tbody>\n",
       "    <tr>\n",
       "      <th>a</th>\n",
       "      <td>1</td>\n",
       "      <td>10</td>\n",
       "      <td>100</td>\n",
       "    </tr>\n",
       "    <tr>\n",
       "      <th>b</th>\n",
       "      <td>2</td>\n",
       "      <td>20</td>\n",
       "      <td>200</td>\n",
       "    </tr>\n",
       "    <tr>\n",
       "      <th>c</th>\n",
       "      <td>3</td>\n",
       "      <td>30</td>\n",
       "      <td>300</td>\n",
       "    </tr>\n",
       "    <tr>\n",
       "      <th>d</th>\n",
       "      <td>4</td>\n",
       "      <td>40</td>\n",
       "      <td>400</td>\n",
       "    </tr>\n",
       "    <tr>\n",
       "      <th>e</th>\n",
       "      <td>5</td>\n",
       "      <td>50</td>\n",
       "      <td>500</td>\n",
       "    </tr>\n",
       "  </tbody>\n",
       "</table>\n",
       "</div>"
      ],
      "text/plain": [
       "   c1  c2   c3\n",
       "a   1  10  100\n",
       "b   2  20  200\n",
       "c   3  30  300\n",
       "d   4  40  400\n",
       "e   5  50  500"
      ]
     },
     "execution_count": 64,
     "metadata": {},
     "output_type": "execute_result"
    }
   ],
   "source": [
    "import pandas as pd\n",
    "data = { \"c1\": [1, 2, 3, 4, 5], \n",
    "        \"c2\": [10, 20, 30, 40, 50], \n",
    "        \"c3\": [100, 200, 300, 400, 500] }\n",
    "df=pd.DataFrame(data,index=[\"a\",\"b\",\"c\",\"d\",\"e\"])\n",
    "df\n"
   ]
  },
  {
   "cell_type": "code",
   "execution_count": null,
   "id": "8a567b32-3e31-4881-bd32-b796b31f39fc",
   "metadata": {},
   "outputs": [],
   "source": []
  }
 ],
 "metadata": {
  "kernelspec": {
   "display_name": "Python 3 (ipykernel)",
   "language": "python",
   "name": "python3"
  },
  "language_info": {
   "codemirror_mode": {
    "name": "ipython",
    "version": 3
   },
   "file_extension": ".py",
   "mimetype": "text/x-python",
   "name": "python",
   "nbconvert_exporter": "python",
   "pygments_lexer": "ipython3",
   "version": "3.12.4"
  }
 },
 "nbformat": 4,
 "nbformat_minor": 5
}
