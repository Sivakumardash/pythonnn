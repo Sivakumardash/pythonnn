{
 "cells": [
  {
   "cell_type": "code",
   "execution_count": 9,
   "id": "9002f92d-76d2-465e-a0ca-b9b16168dc86",
   "metadata": {},
   "outputs": [
    {
     "name": "stdout",
     "output_type": "stream",
     "text": [
      "[[1 1 1]\n",
      " [1 1 1]]\n",
      "[[0. 0. 0.]\n",
      " [0. 0. 0.]\n",
      " [0. 0. 0.]]\n",
      "[[7 7 7 7 7]\n",
      " [7 7 7 7 7]]\n"
     ]
    }
   ],
   "source": [
    "#q1)\n",
    "import numpy as np\n",
    "a=np.array([[1,1,1],[1,1,1]])\n",
    "print(a)\n",
    "b=np.zeros((3,3))\n",
    "print(b)\n",
    "c=np.full((2,5),7)\n",
    "print(c)\n",
    "\n"
   ]
  },
  {
   "cell_type": "code",
   "execution_count": 15,
   "id": "57495221-375f-49dc-8913-c61ab41e13db",
   "metadata": {},
   "outputs": [
    {
     "name": "stdout",
     "output_type": "stream",
     "text": [
      "original aarray:\n",
      " [[0 1]\n",
      " [2 3]]\n",
      "cube is: [[ 0  1]\n",
      " [ 8 27]]\n",
      "sum of 7 is: [[ 7  8]\n",
      " [ 9 10]]\n",
      "mul of 2 is: [[0 2]\n",
      " [4 6]]\n"
     ]
    }
   ],
   "source": [
    "#q2)\n",
    "import numpy as np\n",
    "ar=np.arange(0,4)\n",
    "a=ar.reshape(2,2)\n",
    "print(\"original aarray:\\n\",a)\n",
    "cube=np.power(a,3)\n",
    "print(\"cube is:\",cube)\n",
    "sum=a+7\n",
    "print(\"sum of 7 is:\",sum)\n",
    "mul=a*2\n",
    "print(\"mul of 2 is:\",mul)\n"
   ]
  },
  {
   "cell_type": "code",
   "execution_count": 17,
   "id": "4afc51c3-7306-43b0-b320-3e0e9529d034",
   "metadata": {},
   "outputs": [
    {
     "name": "stdout",
     "output_type": "stream",
     "text": [
      "[[ 2  4  6]\n",
      " [ 8 10 12]\n",
      " [14 16 18]]\n",
      "[[9 8 7]\n",
      " [6 5 4]\n",
      " [3 2 1]]\n",
      "[[18 32 42]\n",
      " [48 50 48]\n",
      " [42 32 18]]\n",
      "[[18 32 42]\n",
      " [48 50 48]\n",
      " [42 32 18]]\n"
     ]
    }
   ],
   "source": [
    "#q3)\n",
    "import numpy as np\n",
    "x=np.arange(2,19,2)\n",
    "y=x.reshape(3,3)\n",
    "print(y)\n",
    "a=np.arange(9,0,-1)\n",
    "b=a.reshape(3,3)\n",
    "print(b)\n",
    "mul=np.multiply(y,b)\n",
    "print(mul)\n",
    "## or\n",
    "d=y*b\n",
    "print(d)\n",
    "\n",
    "\n"
   ]
  },
  {
   "cell_type": "code",
   "execution_count": 7,
   "id": "7f5bb537-1208-4a7d-ac7b-88dc43223daf",
   "metadata": {},
   "outputs": [
    {
     "name": "stdout",
     "output_type": "stream",
     "text": [
      "Original array:\n",
      "[[1 2]\n",
      " [3 4]]\n",
      "\n",
      "Array after swapping rows:\n",
      "[[3 4]\n",
      " [1 2]]\n",
      "\n",
      "Array after swapping columns:\n",
      "[[4 3]\n",
      " [2 1]]\n"
     ]
    }
   ],
   "source": [
    "#q4)\n",
    "\n",
    "import numpy as np\n",
    "\n",
    "# Create a 2x2 array\n",
    "array = np.array([[1, 2], [3, 4]])\n",
    "\n",
    "print(\"Original array:\")\n",
    "print(array)\n",
    "\n",
    "# Swap the first row (no change since there are only two rows, but let's do it for consistency)\n",
    "array[[0, 1]] = array[[1, 0]]\n",
    "\n",
    "print(\"\\nArray after swapping rows:\")\n",
    "print(array)\n",
    "\n",
    "# Swap the first two columns\n",
    "array[:, [0, 1]] = array[:, [1, 0]]\n",
    "\n",
    "print(\"\\nArray after swapping columns:\")\n",
    "print(array)\n",
    "\n"
   ]
  },
  {
   "cell_type": "code",
   "execution_count": 9,
   "id": "bfc3c3eb-ef83-42cb-8ccf-87accaceccc3",
   "metadata": {},
   "outputs": [
    {
     "data": {
      "text/plain": [
       "array([[ 2,  3,  5,  7, 11],\n",
       "       [13, 17, 19, 23, 29]])"
      ]
     },
     "execution_count": 9,
     "metadata": {},
     "output_type": "execute_result"
    }
   ],
   "source": [
    "#q5)\n",
    "import numpy as np\n",
    "\n",
    "l1=[2,3,5,7,11]\n",
    "l2=[13,17,19,23,29]\n",
    "array=np.array([l1,l2])\n",
    "array"
   ]
  },
  {
   "cell_type": "code",
   "execution_count": 41,
   "id": "460d8af6-b901-485e-84bd-d14bd91a34e5",
   "metadata": {},
   "outputs": [
    {
     "name": "stdout",
     "output_type": "stream",
     "text": [
      "[[99  2  4]\n",
      " [ 8 16 32]]\n",
      "[ 1  2  4  8 16 32]\n",
      "[99  2  4  8 16 32]\n",
      "[[99  2  4]\n",
      " [ 8 16 32]]\n"
     ]
    }
   ],
   "source": [
    "#q6))\n",
    "import numpy as np\n",
    "a=np.array([[2**0,2**1,2**2],[2**3,2**4,2**5]])\n",
    "b=a.flatten()\n",
    "c=a.ravel()#in ravel if u modify some thing it will also grt modify in the orginal array ex- in a \n",
    "c[0]=99\n",
    "\n",
    "\n",
    "print(a)\n",
    "print(b)\n",
    "print(c)\n",
    "print(a)\n",
    "\n",
    "\n"
   ]
  },
  {
   "cell_type": "code",
   "execution_count": 125,
   "id": "56620186-75fc-4f15-a353-13242a645a7e",
   "metadata": {},
   "outputs": [
    {
     "name": "stdout",
     "output_type": "stream",
     "text": [
      "Most frequent value: d\n"
     ]
    }
   ],
   "source": [
    "#q7)\n",
    "import numpy as np\n",
    "from collections import Counter\n",
    "\n",
    "# Example array\n",
    "array = np.array(['s','d','s','d','s','d','d','d','d','s'])\n",
    "\n",
    "# Count the frequency of each element\n",
    "frequency = Counter(array)\n",
    "\n",
    "# Find the most frequent value\n",
    "most = frequency.most_common(1)[0][0]\n",
    "print(\"Most frequent value:\", most)\n"
   ]
  },
  {
   "cell_type": "code",
   "execution_count": 15,
   "id": "542dbf1c-45d2-4d40-aca3-607803257561",
   "metadata": {},
   "outputs": [
    {
     "name": "stdout",
     "output_type": "stream",
     "text": [
      "[1.1 2.2 3.3 4.4 5.5 6.6]\n",
      "[[1.1 2.2 3.3]\n",
      " [4.4 5.5 6.6]]\n",
      "[[1 2 3]\n",
      " [4 5 6]]\n"
     ]
    }
   ],
   "source": [
    "#Q8)\n",
    "import numpy as np\n",
    "a=np.linspace(1.1,6.6,6)\n",
    "b=a.reshape(2,3)\n",
    "c=b.astype(int)\n",
    "print(a)\n",
    "print(b)\n",
    "print(c)"
   ]
  },
  {
   "cell_type": "code",
   "execution_count": 43,
   "id": "0e71a3b3-5c79-443c-9ed3-d99833331aed",
   "metadata": {},
   "outputs": [
    {
     "name": "stdout",
     "output_type": "stream",
     "text": [
      "[[ 1  2  3  4  5]\n",
      " [ 6  7  8  9 10]\n",
      " [11 12 13 14 15]] \n",
      "\n",
      "\n",
      "row 2: [11 12 13 14 15] \n",
      "\n",
      "\n",
      "column 5: [ 5 10 15] \n",
      "\n",
      "\n",
      "row 0 &1\n",
      " [[ 1  2  3  4  5]\n",
      " [ 6  7  8  9 10]] \n",
      "\n",
      "\n",
      "column 2-4 [[ 3  4  5]\n",
      " [ 8  9 10]\n",
      " [13 14 15]] \n",
      "\n",
      "\n",
      "row 1&4 10 \n",
      "\n",
      "\n",
      "row 1,2 columns 0,2,4:\n",
      " [[ 6  8 10]\n",
      " [11 13 15]] \n",
      "\n",
      "\n",
      "row 2,2 columns 1,2,3:\n",
      " [[ 7  8  9]\n",
      " [12 13 14]] \n",
      "\n",
      "\n"
     ]
    }
   ],
   "source": [
    "#q10)\n",
    "import numpy as np\n",
    "\n",
    "b=np.arange(1,16).reshape(3,5)\n",
    "\n",
    "print(b,\"\\n\\n\")\n",
    "print(\"row 2:\",b[2],\"\\n\\n\")\n",
    "\n",
    "print(\"column 5:\",b[:, 4],\"\\n\\n\")\n",
    "print(\"row 0 &1\\n\",b[0:2],\"\\n\\n\")\n",
    "print(\"column 2-4\",b[:, 2:5],\"\\n\\n\")\n",
    "print(\"row 1&4\",b[1,4],\"\\n\\n\")\n",
    "print(\"row 1,2 columns 0,2,4:\\n\",b[1:3,0:5:2],\"\\n\\n\") #or another way\n",
    "print(\"row 2,2 columns 1,2,3:\\n\",b[1:3,[1,2,3]],\"\\n\\n\")\n",
    "      \n",
    "\n"
   ]
  },
  {
   "cell_type": "code",
   "execution_count": 63,
   "id": "1523a9c6-8dcd-4895-a9fb-36a0d15ebef1",
   "metadata": {},
   "outputs": [
    {
     "name": "stdout",
     "output_type": "stream",
     "text": [
      "array3:\n",
      " [[0 1]\n",
      " [2 3]\n",
      " [4 5]\n",
      " [6 7]]\n",
      "\n",
      "array4:\n",
      " [[0 1 4 5]\n",
      " [2 3 6 7]]\n",
      "\n",
      "array5:\n",
      " [[0 1 4 5]\n",
      " [2 3 6 7]\n",
      " [0 1 4 5]\n",
      " [2 3 6 7]]\n",
      "\n",
      "array6:\n",
      " [[0 1 0 1]\n",
      " [2 3 2 3]\n",
      " [4 5 4 5]\n",
      " [6 7 6 7]]\n"
     ]
    }
   ],
   "source": [
    "#q11)\n",
    "import numpy as np\n",
    "\n",
    "# Given arrays\n",
    "array1 = np.array([[0, 1], [2, 3]])\n",
    "array2 = np.array([[4, 5], [6, 7]])\n",
    "\n",
    "# (a) Vertical stacking\n",
    "array3 = np.vstack((array1, array2))\n",
    "print(\"array3:\\n\", array3)\n",
    "\n",
    "# (b) Horizontal stacking\n",
    "array4 = np.hstack((array1, array2))\n",
    "print(\"\\narray4:\\n\", array4)\n",
    "\n",
    "# (c) Vertical stacking with two copies of array4\n",
    "array5 = np.vstack((array4, array4))\n",
    "print(\"\\narray5:\\n\", array5)\n",
    "\n",
    "# (d) Horizontal stacking with two copies of array3\n",
    "array6 = np.hstack((array3, array3))\n",
    "print(\"\\narray6:\\n\", array6)"
   ]
  },
  {
   "cell_type": "code",
   "execution_count": 65,
   "id": "883c7136-c943-4348-80d3-caa947534680",
   "metadata": {},
   "outputs": [
    {
     "name": "stdout",
     "output_type": "stream",
     "text": [
      "array3:\n",
      " [[0 1]\n",
      " [2 3]\n",
      " [4 5]\n",
      " [6 7]]\n",
      "\n",
      "array4:\n",
      " [[0 1 4 5]\n",
      " [2 3 6 7]]\n",
      "\n",
      "array5:\n",
      " [[0 1 4 5]\n",
      " [2 3 6 7]\n",
      " [0 1 4 5]\n",
      " [2 3 6 7]]\n",
      "\n",
      "array6:\n",
      " [[0 1 0 1]\n",
      " [2 3 2 3]\n",
      " [4 5 4 5]\n",
      " [6 7 6 7]]\n"
     ]
    }
   ],
   "source": [
    "#q12)\n",
    "import numpy as np\n",
    "\n",
    "# Given arrays\n",
    "array1 = np.array([[0, 1], [2, 3]])\n",
    "array2 = np.array([[4, 5], [6, 7]])\n",
    "\n",
    "# (a) Vertical stacking using concatenate\n",
    "array3 = np.concatenate((array1, array2), axis=0)   #axis 0 means in row column by column then next row column by column ... in vertical way|\n",
    "print(\"array3:\\n\", array3)                                                                                                                 \n",
    "\n",
    "# (b) Horizontal stacking using concatenate\n",
    "array4 = np.concatenate((array1, array2), axis=1) #axis 1 means in array1 st row &  in array2 1st row in horizontal \n",
    "print(\"\\narray4:\\n\", array4)\n",
    "\n",
    "# (c) Vertical stacking with two copies of array4 using concatenate\n",
    "array5 = np.concatenate((array4, array4), axis=0)\n",
    "print(\"\\narray5:\\n\", array5)\n",
    "\n",
    "# (d) Horizontal stacking with two copies of array3 using concatenate\n",
    "array6 = np.concatenate((array3, array3), axis=1)\n",
    "print(\"\\narray6:\\n\", array6)"
   ]
  },
  {
   "cell_type": "code",
   "execution_count": 71,
   "id": "7824fd86-a90e-40a5-9f4b-b03c796cb495",
   "metadata": {},
   "outputs": [],
   "source": [
    "import numpy as np\n",
    "array = np.array([[1, 2, 3],\n",
    "                  [4, 5, 6],\n",
    "                  [7, 8, 9]])\n",
    "# axis 0 (rows): [[1, 2, 3], [4, 5, 6], [7, 8, 9]]\n",
    "# axis 1 (columns): [[1, 4, 7], [2, 5, 8], [3, 6, 9]]\n",
    "axis 0: refer to the direction along the row (vertically down the column)\n",
    "axis 1:refer to the direction along the coluimn (horizontally across the row)\n"
   ]
  },
  {
   "cell_type": "code",
   "execution_count": 75,
   "id": "aa5e2650-fb24-445f-af18-a0b4bbd50a39",
   "metadata": {},
   "outputs": [
    {
     "name": "stdout",
     "output_type": "stream",
     "text": [
      "[['-' '*']\n",
      " ['*' '-']]\n",
      "[['-' '*' '-' '*' '-' '*' '-' '*']\n",
      " ['*' '-' '*' '-' '*' '-' '*' '-']\n",
      " ['-' '*' '-' '*' '-' '*' '-' '*']\n",
      " ['*' '-' '*' '-' '*' '-' '*' '-']\n",
      " ['-' '*' '-' '*' '-' '*' '-' '*']\n",
      " ['*' '-' '*' '-' '*' '-' '*' '-']\n",
      " ['-' '*' '-' '*' '-' '*' '-' '*']\n",
      " ['*' '-' '*' '-' '*' '-' '*' '-']]\n"
     ]
    }
   ],
   "source": [
    "#q13)\n",
    "import numpy as np\n",
    "\n",
    "# Create a basic 2x2 pattern\n",
    "a = np.array([['-', '*'], ['*', '-']])\n",
    "print(a)\n",
    "\n",
    "# Create a larger checkerboard pattern by tiling the basic pattern\n",
    "checkerboard_pattern = np.tile(a, (4, 4))  # Adjust the (4, 4) to the desired size\n",
    "                        #here tile is used to say how many times array is repeated in each direction here it is repeated 4 times in row & column\n",
    "print(checkerboard_pattern)\n"
   ]
  },
  {
   "cell_type": "code",
   "execution_count": 79,
   "id": "339e0f9e-a4a8-46d3-aa82-496c7789eec3",
   "metadata": {},
   "outputs": [
    {
     "name": "stdout",
     "output_type": "stream",
     "text": [
      "Array:\n",
      " [[ 1 37 87 24 50]\n",
      " [53 23 42 34 47]\n",
      " [30 19 28  2 31]\n",
      " [47 61 42 48 68]\n",
      " [38 51 75 35 49]]\n",
      "\n",
      "Counts:\n",
      " [0 1 1 0 0 0 0 0 0 0 0 0 0 0 0 0 0 0 0 1 0 0 0 1 1 0 0 0 1 0 1 1 0 0 1 1 0\n",
      " 1 1 0 0 0 2 0 0 0 0 2 1 1 1 1 0 1 0 0 0 0 0 0 0 1 0 0 0 0 0 0 1 0 0 0 0 0\n",
      " 0 1 0 0 0 0 0 0 0 0 0 0 0 1]\n"
     ]
    }
   ],
   "source": [
    "#q14)\n",
    "import numpy as np\n",
    "\n",
    "# Create a 5x5 array of random integers in the range 0-99\n",
    "array = np.random.randint(0, 100, size=(5, 5))\n",
    "\n",
    "# Flatten the array to a 1D array\n",
    "flattened_array = array.flatten()\n",
    "\n",
    "# Use the bincount function to count the occurrences of each integer\n",
    "counts = np.bincount(flattened_array)\n",
    "\n",
    "# Print the array and the counts\n",
    "print(\"Array:\\n\", array)\n",
    "print(\"\\nCounts:\\n\", counts)\n",
    "\n",
    "\n",
    "\n"
   ]
  },
  {
   "cell_type": "code",
   "execution_count": 121,
   "id": "e87a1b6e-9ad2-4747-a7c6-af1dcc81764d",
   "metadata": {},
   "outputs": [
    {
     "name": "stdout",
     "output_type": "stream",
     "text": [
      "a: [1 2 3 4 4 3 3 3 3]\n",
      "median of a: 3.0\n",
      "mode of a: ModeResult(mode=3, count=5)\n",
      "b:\n",
      " [[1 2 3 4]\n",
      " [5 4 7 8]]\n",
      "median of b: 4.0\n",
      "mode of b: ModeResult(mode=4, count=2)\n",
      "c:\n",
      " [[[ 1  2  3  4]\n",
      "  [ 5  6  7  8]]\n",
      "\n",
      " [[ 9 10 11 12]\n",
      "  [ 1  5  5  5]]]\n",
      "median of b: 5.0\n",
      "mode of c: ModeResult(mode=5, count=4)\n"
     ]
    }
   ],
   "source": [
    "#q15)\n",
    "import numpy as np\n",
    "a=np.array([1,2,3,4,4,3,3,3,3])\n",
    "b=np.array([[1,2,3,4],[5,4,7,8]])\n",
    "c=np.array([[[1,2,3,4],[5,6,7,8]],[[9,10,11,12],[1,5,5,5]]])\n",
    "print(\"a:\",a)\n",
    "print(\"median of a:\",np.median(a))\n",
    "print(\"mode of a:\",stats.mode(a,axis=None))\n",
    "print(\"b:\\n\",b)\n",
    "print(\"median of b:\",np.median(b))\n",
    "print(\"mode of b:\",stats.mode(b,axis=None))\n",
    "\n",
    "print(\"c:\\n\",c)\n",
    "print(\"median of b:\",np.median(c))\n",
    "print(\"mode of c:\",stats.mode(c,axis=None))\n",
    "\n",
    "\n",
    "\n"
   ]
  },
  {
   "cell_type": "code",
   "execution_count": 133,
   "id": "8393df5d-01b4-4f86-a62e-98fca2e679af",
   "metadata": {},
   "outputs": [
    {
     "name": "stdout",
     "output_type": "stream",
     "text": [
      "a: [[[0.60640129 0.73662165]\n",
      "  [0.03144347 0.54299847]\n",
      "  [0.78515307 0.96079196]\n",
      "  [0.50687107 0.19402891]\n",
      "  [0.03029015 0.99098161]\n",
      "  [0.04233352 0.12126428]\n",
      "  [0.52068353 0.91350836]\n",
      "  [0.83044519 0.83290699]\n",
      "  [0.23576473 0.02081349]]\n",
      "\n",
      " [[0.03864169 0.63234388]\n",
      "  [0.17756845 0.01218529]\n",
      "  [0.8826934  0.04974238]\n",
      "  [0.64756878 0.16895465]\n",
      "  [0.55667346 0.6624502 ]\n",
      "  [0.01708771 0.81515655]\n",
      "  [0.55150994 0.36090043]\n",
      "  [0.35889397 0.4327769 ]\n",
      "  [0.77440907 0.55818099]]\n",
      "\n",
      " [[0.55343043 0.88376833]\n",
      "  [0.80389641 0.74396423]\n",
      "  [0.38665518 0.52472736]\n",
      "  [0.11464883 0.17193511]\n",
      "  [0.86513542 0.90351561]\n",
      "  [0.90671561 0.10362905]\n",
      "  [0.72107788 0.89446637]\n",
      "  [0.17861498 0.61596401]\n",
      "  [0.97803761 0.11729992]]\n",
      "\n",
      " [[0.55700243 0.44534873]\n",
      "  [0.55349796 0.90095222]\n",
      "  [0.35983686 0.27808801]\n",
      "  [0.81128109 0.45579807]\n",
      "  [0.06735487 0.37856187]\n",
      "  [0.10847188 0.21055275]\n",
      "  [0.88995974 0.00661052]\n",
      "  [0.22609052 0.55546322]\n",
      "  [0.67950467 0.3045793 ]]\n",
      "\n",
      " [[0.90006852 0.22400906]\n",
      "  [0.27951733 0.4214876 ]\n",
      "  [0.83603848 0.40369586]\n",
      "  [0.22739687 0.92876516]\n",
      "  [0.11978528 0.2181365 ]\n",
      "  [0.65807399 0.07693861]\n",
      "  [0.96291046 0.73738481]\n",
      "  [0.67406181 0.30642264]\n",
      "  [0.9454456  0.57863393]]\n",
      "\n",
      " [[0.8007272  0.03333606]\n",
      "  [0.62835143 0.45744744]\n",
      "  [0.61108702 0.74379791]\n",
      "  [0.96797853 0.13744987]\n",
      "  [0.67706617 0.65506765]\n",
      "  [0.14722113 0.44304186]\n",
      "  [0.70605944 0.33249039]\n",
      "  [0.462514   0.53965662]\n",
      "  [0.09997978 0.90530825]]\n",
      "\n",
      " [[0.74424816 0.9613202 ]\n",
      "  [0.8686361  0.51220899]\n",
      "  [0.08081077 0.91105523]\n",
      "  [0.78887351 0.05757738]\n",
      "  [0.44194124 0.73037815]\n",
      "  [0.73527449 0.13875977]\n",
      "  [0.71325452 0.55915474]\n",
      "  [0.46348388 0.75267162]\n",
      "  [0.8245427  0.48645254]]\n",
      "\n",
      " [[0.40435812 0.04255641]\n",
      "  [0.88540823 0.5510315 ]\n",
      "  [0.4897325  0.47700587]\n",
      "  [0.47328474 0.87807047]\n",
      "  [0.90557893 0.22503933]\n",
      "  [0.48634037 0.65100095]\n",
      "  [0.37830661 0.85827677]\n",
      "  [0.36786695 0.42047351]\n",
      "  [0.29671661 0.94170283]]\n",
      "\n",
      " [[0.19391334 0.00583663]\n",
      "  [0.3137589  0.7017057 ]\n",
      "  [0.83359276 0.46875768]\n",
      "  [0.72137705 0.38866758]\n",
      "  [0.60206155 0.91626804]\n",
      "  [0.14151961 0.77251282]\n",
      "  [0.46814002 0.28594725]\n",
      "  [0.93258394 0.86405255]\n",
      "  [0.5889889  0.77418512]]]\n",
      "subarray: [[[0.60640129 0.73662165]\n",
      "  [0.03144347 0.54299847]\n",
      "  [0.78515307 0.96079196]\n",
      "  [0.50687107 0.19402891]\n",
      "  [0.03029015 0.99098161]]\n",
      "\n",
      " [[0.03864169 0.63234388]\n",
      "  [0.17756845 0.01218529]\n",
      "  [0.8826934  0.04974238]\n",
      "  [0.64756878 0.16895465]\n",
      "  [0.55667346 0.6624502 ]]\n",
      "\n",
      " [[0.55343043 0.88376833]\n",
      "  [0.80389641 0.74396423]\n",
      "  [0.38665518 0.52472736]\n",
      "  [0.11464883 0.17193511]\n",
      "  [0.86513542 0.90351561]]\n",
      "\n",
      " [[0.55700243 0.44534873]\n",
      "  [0.55349796 0.90095222]\n",
      "  [0.35983686 0.27808801]\n",
      "  [0.81128109 0.45579807]\n",
      "  [0.06735487 0.37856187]]\n",
      "\n",
      " [[0.90006852 0.22400906]\n",
      "  [0.27951733 0.4214876 ]\n",
      "  [0.83603848 0.40369586]\n",
      "  [0.22739687 0.92876516]\n",
      "  [0.11978528 0.2181365 ]]]\n"
     ]
    }
   ],
   "source": [
    "#q16)\n",
    "import numpy as np\n",
    "a=np.random.rand(9,9,2)\n",
    "print(\"a:\",a)\n",
    "print(\"subarray:\",a[:5,:5,:])\n"
   ]
  },
  {
   "cell_type": "code",
   "execution_count": 145,
   "id": "3e709edd-ae1e-4145-b3c3-378828729b25",
   "metadata": {},
   "outputs": [
    {
     "name": "stdout",
     "output_type": "stream",
     "text": [
      "[[0.28209421 0.86004332 0.67527539 0.86778593]\n",
      " [0.11060484 0.30294304 0.59040116 0.19283807]\n",
      " [0.58294628 0.36621493 0.92657008 0.67039754]\n",
      " [0.0727289  0.54403821 0.08891877 0.75137614]]\n",
      "[[0.0727289  0.30294304 0.08891877 0.19283807]\n",
      " [0.11060484 0.36621493 0.59040116 0.67039754]\n",
      " [0.28209421 0.54403821 0.67527539 0.75137614]\n",
      " [0.58294628 0.86004332 0.92657008 0.86778593]]\n"
     ]
    }
   ],
   "source": [
    "#q17)\n",
    "import numpy as np\n",
    "a=np.random.rand(4,4)\n",
    "print(a)\n",
    "b=np.sort(a,axis=0)\n",
    "print(b)"
   ]
  },
  {
   "cell_type": "code",
   "execution_count": 55,
   "id": "f02743a4-71d4-48e5-9100-cc6ef9b2e027",
   "metadata": {},
   "outputs": [
    {
     "name": "stdout",
     "output_type": "stream",
     "text": [
      "   c1  c2   c3\n",
      "0   1  10  100\n",
      "1   2  20  200\n",
      "2   3  30  300\n",
      "3   4  40  400\n",
      "4   5  50  500\n",
      "0    100\n",
      "1    200\n",
      "2    300\n",
      "3    400\n",
      "4    500\n",
      "Name: c3, dtype: int64\n"
     ]
    }
   ],
   "source": [
    "#q18)\n",
    "import pandas as pd\n",
    "data={\n",
    "    \"c1\":[1,2,3,4,5],\n",
    "    \"c2\":[10,20,30,40,50],\n",
    "    \"c3\":[100,200,300,400,500]\n",
    "}\n",
    "df=pd.DataFrame(data)\n",
    "\n",
    "s=df.iloc[:,2]\n",
    "print(df)\n",
    "print(s)\n",
    "\n",
    "    "
   ]
  },
  {
   "cell_type": "code",
   "execution_count": 55,
   "id": "ea1f638a-cf06-4ab3-aa7d-b8ecdaf65e04",
   "metadata": {},
   "outputs": [
    {
     "name": "stdout",
     "output_type": "stream",
     "text": [
      "Series 1:\n",
      " 0    1\n",
      "1    2\n",
      "2    3\n",
      "3    4\n",
      "4    2\n",
      "dtype: int64\n",
      "\n",
      "Series 2:\n",
      " 0    3\n",
      "1    4\n",
      "2    5\n",
      "3    6\n",
      "dtype: int64\n",
      "\n",
      "Elements in Series 1 not present in Series 2:\n",
      " 0    1\n",
      "1    2\n",
      "4    2\n",
      "dtype: int64\n"
     ]
    }
   ],
   "source": [
    "#q19)\n",
    "import pandas as pd\n",
    "\n",
    "# Lists\n",
    "s1 = [1, 2, 3, 4, 2]\n",
    "s2 = [3, 4, 5, 6]\n",
    "\n",
    "# Convert lists to Pandas Series\n",
    "series1 = pd.Series(s1)\n",
    "series2 = pd.Series(s2)\n",
    "\n",
    "print(\"Series 1:\\n\", series1)\n",
    "print(\"\\nSeries 2:\\n\", series2)\n",
    "\n",
    "# Find elements in series1 not present in series2\n",
    "unique_elements = series1[~series1.isin(series2)]\n",
    "                         #series1.isin(series2) returns true is s1 is in s2\n",
    "                  \n",
    "print(\"\\nElements in Series 1 not present in Series 2:\\n\", unique_elements)"
   ]
  },
  {
   "cell_type": "code",
   "execution_count": 53,
   "id": "36f1b8ed-1688-46e6-ab68-a10299b12806",
   "metadata": {},
   "outputs": [
    {
     "name": "stdout",
     "output_type": "stream",
     "text": [
      "0      1\n",
      "1      1\n",
      "2      3\n",
      "3      7\n",
      "4     88\n",
      "5     12\n",
      "6     88\n",
      "7     23\n",
      "8      3\n",
      "9      1\n",
      "10     9\n",
      "11     0\n",
      "dtype: int64\n",
      "min index: 11 max index: 4\n"
     ]
    }
   ],
   "source": [
    "#20)\n",
    "import pandas as pd\n",
    "\n",
    "a=[1,1,3,7,88,12,88,23,3,1,9,0]\n",
    "s=pd.Series(a)\n",
    "print(s)\n",
    "idx_smlst=s.idxmin()\n",
    "idx_bg=s.idxmax()\n",
    "print(\"min index:\",idx_smlst,\"max index:\",idx_bg)\n"
   ]
  },
  {
   "cell_type": "code",
   "execution_count": 61,
   "id": "4b9203a9-e1cd-42cb-a55a-c98b55fd4c87",
   "metadata": {},
   "outputs": [
    {
     "name": "stdout",
     "output_type": "stream",
     "text": [
      "Original Series:\n",
      "0       Cry\n",
      "1     Apple\n",
      "2    Orange\n",
      "3       Sky\n",
      "4    Banana\n",
      "dtype: object\n",
      "\n",
      "Series with elements that have a vowel:\n",
      "1     Apple\n",
      "2    Orange\n",
      "4    Banana\n",
      "dtype: object\n",
      "\n",
      "Series with elements that start with a vowel:\n",
      "1     Apple\n",
      "2    Orange\n",
      "dtype: object\n"
     ]
    }
   ],
   "source": [
    "#q21)\n",
    "import pandas as pd\n",
    "\n",
    "# Convert the list to a Pandas Series\n",
    "L = ['Cry', 'Apple', 'Orange', 'Sky', 'Banana']\n",
    "series = pd.Series(L)\n",
    "\n",
    "# Create a new Series with elements that have a vowel\n",
    "vowel_series = series[series.str.contains('[AEIOUaeiou]')]\n",
    "\n",
    "# Create another Series which starts with a vowel\n",
    "starts_with_vowel_series = series[series.str.match('^[AEIOUaeiou]')]\n",
    "\n",
    "print(\"Original Series:\")\n",
    "print(series)\n",
    "\n",
    "print(\"\\nSeries with elements that have a vowel:\")\n",
    "print(vowel_series)\n",
    "\n",
    "print(\"\\nSeries with elements that start with a vowel:\")\n",
    "print(starts_with_vowel_series)"
   ]
  },
  {
   "cell_type": "code",
   "execution_count": 45,
   "id": "614f1acd-7d4b-47d8-88ad-e55f6173cda7",
   "metadata": {},
   "outputs": [
    {
     "name": "stdout",
     "output_type": "stream",
     "text": [
      "0     7\n",
      "1    11\n",
      "2    13\n",
      "3    17\n",
      "dtype: int64\n",
      "0    100\n",
      "1    100\n",
      "2    100\n",
      "3    100\n",
      "4    100\n",
      "dtype: int64\n",
      "count    20.000000\n",
      "mean     48.500000\n",
      "std      30.586375\n",
      "min       6.000000\n",
      "25%      21.250000\n",
      "50%      49.500000\n",
      "75%      74.000000\n",
      "max      97.000000\n",
      "dtype: float64\n",
      "0     19\n",
      "1     97\n",
      "2     18\n",
      "3     74\n",
      "4      6\n",
      "5     56\n",
      "6     90\n",
      "7     74\n",
      "8     62\n",
      "9     45\n",
      "10    87\n",
      "11    54\n",
      "12    25\n",
      "13    22\n",
      "14     8\n",
      "15    27\n",
      "16    39\n",
      "17    88\n",
      "18    70\n",
      "19     9\n",
      "dtype: int32\n"
     ]
    }
   ],
   "source": [
    "\n",
    "#22)import pandas as pd\n",
    "import numpy as np\n",
    "a=[7,11,13,17]\n",
    "s=pd.Series(a)\n",
    "print(s)\n",
    "b=pd.Series([100]*5)\n",
    "print(b)\n",
    "\n",
    "c=pd.Series(np.random.randint(0,101,size=20))\n",
    "print(c.describe())\n",
    "print(c)"
   ]
  },
  {
   "cell_type": "code",
   "execution_count": 51,
   "id": "cd4f1f1d-dab2-439e-a9e1-6a3c4de3652a",
   "metadata": {},
   "outputs": [
    {
     "name": "stdout",
     "output_type": "stream",
     "text": [
      "julice      98.6\n",
      "charlie     98.9\n",
      "sam        100.2\n",
      "andrea      97.9\n",
      "dtype: float64\n"
     ]
    }
   ],
   "source": [
    "#continue 22)\n",
    "temp=[98.6,98.9,100.2,97.9]\n",
    "temperature=pd.Series(temp,index=[\"julice\",\"charlie\",\"sam\",\"andrea\"])\n",
    "print(temperature)\n",
    "\n"
   ]
  },
  {
   "cell_type": "code",
   "execution_count": 75,
   "id": "fd3b72fb-d543-4927-864a-23797f727ea9",
   "metadata": {},
   "outputs": [
    {
     "data": {
      "text/plain": [
       "0     21\n",
       "1     12\n",
       "2     79\n",
       "3     80\n",
       "4     70\n",
       "5      3\n",
       "6     92\n",
       "7     88\n",
       "8     72\n",
       "9     20\n",
       "10    78\n",
       "11    84\n",
       "12    99\n",
       "13     2\n",
       "14    89\n",
       "15    99\n",
       "16    13\n",
       "17     5\n",
       "18    17\n",
       "19    29\n",
       "dtype: int64"
      ]
     },
     "execution_count": 75,
     "metadata": {},
     "output_type": "execute_result"
    }
   ],
   "source": [
    "import random\n",
    "s2=pd.Series([100]*5)\n",
    "s3 = [random.randint(0, 100) for i in range(20)]\n",
    "s4=pd.Series(s3)\n",
    "s4\n"
   ]
  },
  {
   "cell_type": "code",
   "execution_count": null,
   "id": "1851a7f0-d6e0-4ea0-bf70-05ac323d3219",
   "metadata": {},
   "outputs": [],
   "source": []
  }
 ],
 "metadata": {
  "kernelspec": {
   "display_name": "Python 3 (ipykernel)",
   "language": "python",
   "name": "python3"
  },
  "language_info": {
   "codemirror_mode": {
    "name": "ipython",
    "version": 3
   },
   "file_extension": ".py",
   "mimetype": "text/x-python",
   "name": "python",
   "nbconvert_exporter": "python",
   "pygments_lexer": "ipython3",
   "version": "3.12.4"
  }
 },
 "nbformat": 4,
 "nbformat_minor": 5
}
